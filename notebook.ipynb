{
 "cells": [
  {
   "cell_type": "markdown",
   "metadata": {},
   "source": [
    "# Altair column sort example\n",
    "\n",
    "By [Ben Welsh](http://palewi.re/who-is-ben-welsh/)\n",
    "\n",
    "An example of how to sort the columns in a bar chart created by the Altair data visualization library. Created in response to a question from Joe Germuska."
   ]
  },
  {
   "cell_type": "code",
   "execution_count": 1,
   "metadata": {},
   "outputs": [],
   "source": [
    "import pandas as pd\n",
    "import altair as alt"
   ]
  },
  {
   "cell_type": "markdown",
   "metadata": {},
   "source": [
    "Read in the U.S. Census data file provided by Joe, median household income by county"
   ]
  },
  {
   "cell_type": "code",
   "execution_count": 2,
   "metadata": {},
   "outputs": [],
   "source": [
    "df = pd.read_csv(\"input/mhhi_by_county.csv\")"
   ]
  },
  {
   "cell_type": "code",
   "execution_count": 3,
   "metadata": {},
   "outputs": [
    {
     "data": {
      "text/html": [
       "<div>\n",
       "<style scoped>\n",
       "    .dataframe tbody tr th:only-of-type {\n",
       "        vertical-align: middle;\n",
       "    }\n",
       "\n",
       "    .dataframe tbody tr th {\n",
       "        vertical-align: top;\n",
       "    }\n",
       "\n",
       "    .dataframe thead th {\n",
       "        text-align: right;\n",
       "    }\n",
       "</style>\n",
       "<table border=\"1\" class=\"dataframe\">\n",
       "  <thead>\n",
       "    <tr style=\"text-align: right;\">\n",
       "      <th></th>\n",
       "      <th>Unnamed: 0</th>\n",
       "      <th>name</th>\n",
       "      <th>geoid</th>\n",
       "      <th>b19013001</th>\n",
       "    </tr>\n",
       "  </thead>\n",
       "  <tbody>\n",
       "    <tr>\n",
       "      <th>0</th>\n",
       "      <td>0</td>\n",
       "      <td>Anchorage Municipality, Alaska</td>\n",
       "      <td>05000US02020</td>\n",
       "      <td>85634.0</td>\n",
       "    </tr>\n",
       "    <tr>\n",
       "      <th>1</th>\n",
       "      <td>1</td>\n",
       "      <td>Fairbanks North Star Borough, Alaska</td>\n",
       "      <td>05000US02090</td>\n",
       "      <td>77328.0</td>\n",
       "    </tr>\n",
       "    <tr>\n",
       "      <th>2</th>\n",
       "      <td>2</td>\n",
       "      <td>Matanuska-Susitna Borough, Alaska</td>\n",
       "      <td>05000US02170</td>\n",
       "      <td>69332.0</td>\n",
       "    </tr>\n",
       "    <tr>\n",
       "      <th>3</th>\n",
       "      <td>3</td>\n",
       "      <td>Baldwin County, Alabama</td>\n",
       "      <td>05000US01003</td>\n",
       "      <td>56732.0</td>\n",
       "    </tr>\n",
       "    <tr>\n",
       "      <th>4</th>\n",
       "      <td>4</td>\n",
       "      <td>Calhoun County, Alabama</td>\n",
       "      <td>05000US01015</td>\n",
       "      <td>41687.0</td>\n",
       "    </tr>\n",
       "  </tbody>\n",
       "</table>\n",
       "</div>"
      ],
      "text/plain": [
       "   Unnamed: 0                                  name         geoid  b19013001\n",
       "0           0        Anchorage Municipality, Alaska  05000US02020    85634.0\n",
       "1           1  Fairbanks North Star Borough, Alaska  05000US02090    77328.0\n",
       "2           2     Matanuska-Susitna Borough, Alaska  05000US02170    69332.0\n",
       "3           3               Baldwin County, Alabama  05000US01003    56732.0\n",
       "4           4               Calhoun County, Alabama  05000US01015    41687.0"
      ]
     },
     "execution_count": 3,
     "metadata": {},
     "output_type": "execute_result"
    }
   ],
   "source": [
    "df.head()"
   ]
  },
  {
   "cell_type": "markdown",
   "metadata": {},
   "source": [
    "Make the chart."
   ]
  },
  {
   "cell_type": "code",
   "execution_count": 8,
   "metadata": {},
   "outputs": [
    {
     "data": {
      "application/vnd.vegalite.v2+json": {
       "$schema": "https://vega.github.io/schema/vega-lite/v2.4.1.json",
       "config": {
        "view": {
         "height": 300,
         "width": 400
        }
       },
       "data": {
        "values": [
         {
          "Unnamed: 0": 0,
          "b19013001": 85634,
          "geoid": "05000US02020",
          "name": "Anchorage Municipality, Alaska"
         },
         {
          "Unnamed: 0": 1,
          "b19013001": 77328,
          "geoid": "05000US02090",
          "name": "Fairbanks North Star Borough, Alaska"
         },
         {
          "Unnamed: 0": 2,
          "b19013001": 69332,
          "geoid": "05000US02170",
          "name": "Matanuska-Susitna Borough, Alaska"
         },
         {
          "Unnamed: 0": 3,
          "b19013001": 56732,
          "geoid": "05000US01003",
          "name": "Baldwin County, Alabama"
         },
         {
          "Unnamed: 0": 4,
          "b19013001": 41687,
          "geoid": "05000US01015",
          "name": "Calhoun County, Alabama"
         },
         {
          "Unnamed: 0": 5,
          "b19013001": 39411,
          "geoid": "05000US01043",
          "name": "Cullman County, Alabama"
         },
         {
          "Unnamed: 0": 6,
          "b19013001": 35963,
          "geoid": "05000US01049",
          "name": "DeKalb County, Alabama"
         },
         {
          "Unnamed: 0": 7,
          "b19013001": 52579,
          "geoid": "05000US01051",
          "name": "Elmore County, Alabama"
         },
         {
          "Unnamed: 0": 8,
          "b19013001": 41152,
          "geoid": "05000US01055",
          "name": "Etowah County, Alabama"
         },
         {
          "Unnamed: 0": 9,
          "b19013001": 42321,
          "geoid": "05000US01069",
          "name": "Houston County, Alabama"
         },
         {
          "Unnamed: 0": 10,
          "b19013001": 50180,
          "geoid": "05000US01073",
          "name": "Jefferson County, Alabama"
         },
         {
          "Unnamed: 0": 11,
          "b19013001": 43427,
          "geoid": "05000US01077",
          "name": "Lauderdale County, Alabama"
         },
         {
          "Unnamed: 0": 12,
          "b19013001": 48056,
          "geoid": "05000US01081",
          "name": "Lee County, Alabama"
         },
         {
          "Unnamed: 0": 13,
          "b19013001": 50872,
          "geoid": "05000US01083",
          "name": "Limestone County, Alabama"
         },
         {
          "Unnamed: 0": 14,
          "b19013001": 60503,
          "geoid": "05000US01089",
          "name": "Madison County, Alabama"
         },
         {
          "Unnamed: 0": 15,
          "b19013001": 42362,
          "geoid": "05000US01095",
          "name": "Marshall County, Alabama"
         },
         {
          "Unnamed: 0": 16,
          "b19013001": 45744,
          "geoid": "05000US01097",
          "name": "Mobile County, Alabama"
         },
         {
          "Unnamed: 0": 17,
          "b19013001": 45395,
          "geoid": "05000US01101",
          "name": "Montgomery County, Alabama"
         },
         {
          "Unnamed: 0": 18,
          "b19013001": 44378,
          "geoid": "05000US01103",
          "name": "Morgan County, Alabama"
         },
         {
          "Unnamed: 0": 19,
          "b19013001": 60158,
          "geoid": "05000US01115",
          "name": "St. Clair County, Alabama"
         },
         {
          "Unnamed: 0": 20,
          "b19013001": 73647,
          "geoid": "05000US01117",
          "name": "Shelby County, Alabama"
         },
         {
          "Unnamed: 0": 21,
          "b19013001": 39393,
          "geoid": "05000US01121",
          "name": "Talladega County, Alabama"
         },
         {
          "Unnamed: 0": 22,
          "b19013001": 47787,
          "geoid": "05000US01125",
          "name": "Tuscaloosa County, Alabama"
         },
         {
          "Unnamed: 0": 23,
          "b19013001": 39068,
          "geoid": "05000US01127",
          "name": "Walker County, Alabama"
         },
         {
          "Unnamed: 0": 24,
          "b19013001": 63631,
          "geoid": "05000US05007",
          "name": "Benton County, Arkansas"
         },
         {
          "Unnamed: 0": 25,
          "b19013001": 43678,
          "geoid": "05000US05031",
          "name": "Craighead County, Arkansas"
         },
         {
          "Unnamed: 0": 26,
          "b19013001": 48506,
          "geoid": "05000US05045",
          "name": "Faulkner County, Arkansas"
         },
         {
          "Unnamed: 0": 27,
          "b19013001": 42826,
          "geoid": "05000US05051",
          "name": "Garland County, Arkansas"
         },
         {
          "Unnamed: 0": 28,
          "b19013001": 37712,
          "geoid": "05000US05069",
          "name": "Jefferson County, Arkansas"
         },
         {
          "Unnamed: 0": 29,
          "b19013001": 55837,
          "geoid": "05000US05085",
          "name": "Lonoke County, Arkansas"
         },
         {
          "Unnamed: 0": 30,
          "b19013001": 47387,
          "geoid": "05000US05119",
          "name": "Pulaski County, Arkansas"
         },
         {
          "Unnamed: 0": 31,
          "b19013001": 64932,
          "geoid": "05000US05125",
          "name": "Saline County, Arkansas"
         },
         {
          "Unnamed: 0": 32,
          "b19013001": 42053,
          "geoid": "05000US05131",
          "name": "Sebastian County, Arkansas"
         },
         {
          "Unnamed: 0": 33,
          "b19013001": 45679,
          "geoid": "05000US05143",
          "name": "Washington County, Arkansas"
         },
         {
          "Unnamed: 0": 34,
          "b19013001": 42844,
          "geoid": "05000US05145",
          "name": "White County, Arkansas"
         },
         {
          "Unnamed: 0": 35,
          "b19013001": 34685,
          "geoid": "05000US04001",
          "name": "Apache County, Arizona"
         },
         {
          "Unnamed: 0": 36,
          "b19013001": 45508,
          "geoid": "05000US04003",
          "name": "Cochise County, Arizona"
         },
         {
          "Unnamed: 0": 37,
          "b19013001": 55091,
          "geoid": "05000US04005",
          "name": "Coconino County, Arizona"
         },
         {
          "Unnamed: 0": 38,
          "b19013001": 58737,
          "geoid": "05000US04013",
          "name": "Maricopa County, Arizona"
         },
         {
          "Unnamed: 0": 39,
          "b19013001": 42423,
          "geoid": "05000US04015",
          "name": "Mohave County, Arizona"
         },
         {
          "Unnamed: 0": 40,
          "b19013001": 36998,
          "geoid": "05000US04017",
          "name": "Navajo County, Arizona"
         },
         {
          "Unnamed: 0": 41,
          "b19013001": 47560,
          "geoid": "05000US04019",
          "name": "Pima County, Arizona"
         },
         {
          "Unnamed: 0": 42,
          "b19013001": 52555,
          "geoid": "05000US04021",
          "name": "Pinal County, Arizona"
         },
         {
          "Unnamed: 0": 43,
          "b19013001": 50420,
          "geoid": "05000US04025",
          "name": "Yavapai County, Arizona"
         },
         {
          "Unnamed: 0": 44,
          "b19013001": 43518,
          "geoid": "05000US04027",
          "name": "Yuma County, Arizona"
         },
         {
          "Unnamed: 0": 45,
          "b19013001": 89979,
          "geoid": "05000US06001",
          "name": "Alameda County, California"
         },
         {
          "Unnamed: 0": 46,
          "b19013001": 45177,
          "geoid": "05000US06007",
          "name": "Butte County, California"
         },
         {
          "Unnamed: 0": 47,
          "b19013001": 91045,
          "geoid": "05000US06013",
          "name": "Contra Costa County, California"
         },
         {
          "Unnamed: 0": 48,
          "b19013001": 75772,
          "geoid": "05000US06017",
          "name": "El Dorado County, California"
         },
         {
          "Unnamed: 0": 49,
          "b19013001": 48715,
          "geoid": "05000US06019",
          "name": "Fresno County, California"
         },
         {
          "Unnamed: 0": 50,
          "b19013001": 43130,
          "geoid": "05000US06023",
          "name": "Humboldt County, California"
         },
         {
          "Unnamed: 0": 51,
          "b19013001": 49095,
          "geoid": "05000US06025",
          "name": "Imperial County, California"
         },
         {
          "Unnamed: 0": 52,
          "b19013001": 49903,
          "geoid": "05000US06029",
          "name": "Kern County, California"
         },
         {
          "Unnamed: 0": 53,
          "b19013001": 53234,
          "geoid": "05000US06031",
          "name": "Kings County, California"
         },
         {
          "Unnamed: 0": 54,
          "b19013001": 42029,
          "geoid": "05000US06033",
          "name": "Lake County, California"
         },
         {
          "Unnamed: 0": 55,
          "b19013001": 61338,
          "geoid": "05000US06037",
          "name": "Los Angeles County, California"
         },
         {
          "Unnamed: 0": 56,
          "b19013001": 51657,
          "geoid": "05000US06039",
          "name": "Madera County, California"
         },
         {
          "Unnamed: 0": 57,
          "b19013001": 103845,
          "geoid": "05000US06041",
          "name": "Marin County, California"
         },
         {
          "Unnamed: 0": 58,
          "b19013001": 43809,
          "geoid": "05000US06045",
          "name": "Mendocino County, California"
         },
         {
          "Unnamed: 0": 59,
          "b19013001": 47739,
          "geoid": "05000US06047",
          "name": "Merced County, California"
         },
         {
          "Unnamed: 0": 60,
          "b19013001": 63876,
          "geoid": "05000US06053",
          "name": "Monterey County, California"
         },
         {
          "Unnamed: 0": 61,
          "b19013001": 75077,
          "geoid": "05000US06055",
          "name": "Napa County, California"
         },
         {
          "Unnamed: 0": 62,
          "b19013001": 59022,
          "geoid": "05000US06057",
          "name": "Nevada County, California"
         },
         {
          "Unnamed: 0": 63,
          "b19013001": 81837,
          "geoid": "05000US06059",
          "name": "Orange County, California"
         },
         {
          "Unnamed: 0": 64,
          "b19013001": 85426,
          "geoid": "05000US06061",
          "name": "Placer County, California"
         },
         {
          "Unnamed: 0": 65,
          "b19013001": 60134,
          "geoid": "05000US06065",
          "name": "Riverside County, California"
         },
         {
          "Unnamed: 0": 66,
          "b19013001": 59780,
          "geoid": "05000US06067",
          "name": "Sacramento County, California"
         },
         {
          "Unnamed: 0": 67,
          "b19013001": 56337,
          "geoid": "05000US06071",
          "name": "San Bernardino County, California"
         },
         {
          "Unnamed: 0": 68,
          "b19013001": 70824,
          "geoid": "05000US06073",
          "name": "San Diego County, California"
         },
         {
          "Unnamed: 0": 69,
          "b19013001": 103801,
          "geoid": "05000US06075",
          "name": "San Francisco County, California"
         },
         {
          "Unnamed: 0": 70,
          "b19013001": 59518,
          "geoid": "05000US06077",
          "name": "San Joaquin County, California"
         },
         {
          "Unnamed: 0": 71,
          "b19013001": 70564,
          "geoid": "05000US06079",
          "name": "San Luis Obispo County, California"
         },
         {
          "Unnamed: 0": 72,
          "b19013001": 108627,
          "geoid": "05000US06081",
          "name": "San Mateo County, California"
         },
         {
          "Unnamed: 0": 73,
          "b19013001": 67436,
          "geoid": "05000US06083",
          "name": "Santa Barbara County, California"
         },
         {
          "Unnamed: 0": 74,
          "b19013001": 111069,
          "geoid": "05000US06085",
          "name": "Santa Clara County, California"
         },
         {
          "Unnamed: 0": 75,
          "b19013001": 77613,
          "geoid": "05000US06087",
          "name": "Santa Cruz County, California"
         },
         {
          "Unnamed: 0": 76,
          "b19013001": 46724,
          "geoid": "05000US06089",
          "name": "Shasta County, California"
         },
         {
          "Unnamed: 0": 77,
          "b19013001": 73900,
          "geoid": "05000US06095",
          "name": "Solano County, California"
         },
         {
          "Unnamed: 0": 78,
          "b19013001": 73929,
          "geoid": "05000US06097",
          "name": "Sonoma County, California"
         },
         {
          "Unnamed: 0": 79,
          "b19013001": 54305,
          "geoid": "05000US06099",
          "name": "Stanislaus County, California"
         },
         {
          "Unnamed: 0": 80,
          "b19013001": 51397,
          "geoid": "05000US06101",
          "name": "Sutter County, California"
         },
         {
          "Unnamed: 0": 81,
          "b19013001": 45881,
          "geoid": "05000US06107",
          "name": "Tulare County, California"
         },
         {
          "Unnamed: 0": 82,
          "b19013001": 80135,
          "geoid": "05000US06111",
          "name": "Ventura County, California"
         },
         {
          "Unnamed: 0": 83,
          "b19013001": 64904,
          "geoid": "05000US06113",
          "name": "Yolo County, California"
         },
         {
          "Unnamed: 0": 84,
          "b19013001": 49259,
          "geoid": "05000US06115",
          "name": "Yuba County, California"
         },
         {
          "Unnamed: 0": 85,
          "b19013001": 66033,
          "geoid": "05000US08001",
          "name": "Adams County, Colorado"
         },
         {
          "Unnamed: 0": 86,
          "b19013001": 70950,
          "geoid": "05000US08005",
          "name": "Arapahoe County, Colorado"
         },
         {
          "Unnamed: 0": 87,
          "b19013001": 74615,
          "geoid": "05000US08013",
          "name": "Boulder County, Colorado"
         },
         {
          "Unnamed: 0": 88,
          "b19013001": 84349,
          "geoid": "05000US08014",
          "name": "Broomfield County, Colorado"
         },
         {
          "Unnamed: 0": 89,
          "b19013001": 61105,
          "geoid": "05000US08031",
          "name": "Denver County, Colorado"
         },
         {
          "Unnamed: 0": 90,
          "b19013001": 109292,
          "geoid": "05000US08035",
          "name": "Douglas County, Colorado"
         },
         {
          "Unnamed: 0": 91,
          "b19013001": 63882,
          "geoid": "05000US08041",
          "name": "El Paso County, Colorado"
         },
         {
          "Unnamed: 0": 92,
          "b19013001": 74186,
          "geoid": "05000US08059",
          "name": "Jefferson County, Colorado"
         },
         {
          "Unnamed: 0": 93,
          "b19013001": 66469,
          "geoid": "05000US08069",
          "name": "Larimer County, Colorado"
         },
         {
          "Unnamed: 0": 94,
          "b19013001": 48846,
          "geoid": "05000US08077",
          "name": "Mesa County, Colorado"
         },
         {
          "Unnamed: 0": 95,
          "b19013001": 44677,
          "geoid": "05000US08101",
          "name": "Pueblo County, Colorado"
         },
         {
          "Unnamed: 0": 96,
          "b19013001": 63400,
          "geoid": "05000US08123",
          "name": "Weld County, Colorado"
         },
         {
          "Unnamed: 0": 97,
          "b19013001": 90123,
          "geoid": "05000US09001",
          "name": "Fairfield County, Connecticut"
         },
         {
          "Unnamed: 0": 98,
          "b19013001": 69433,
          "geoid": "05000US09003",
          "name": "Hartford County, Connecticut"
         },
         {
          "Unnamed: 0": 99,
          "b19013001": 76993,
          "geoid": "05000US09005",
          "name": "Litchfield County, Connecticut"
         },
         {
          "Unnamed: 0": 100,
          "b19013001": 79739,
          "geoid": "05000US09007",
          "name": "Middlesex County, Connecticut"
         },
         {
          "Unnamed: 0": 101,
          "b19013001": 66176,
          "geoid": "05000US09009",
          "name": "New Haven County, Connecticut"
         },
         {
          "Unnamed: 0": 102,
          "b19013001": 70699,
          "geoid": "05000US09011",
          "name": "New London County, Connecticut"
         },
         {
          "Unnamed: 0": 103,
          "b19013001": 81252,
          "geoid": "05000US09013",
          "name": "Tolland County, Connecticut"
         },
         {
          "Unnamed: 0": 104,
          "b19013001": 61608,
          "geoid": "05000US09015",
          "name": "Windham County, Connecticut"
         },
         {
          "Unnamed: 0": 105,
          "b19013001": 75506,
          "geoid": "05000US11001",
          "name": "District of Columbia, District of Columbia"
         },
         {
          "Unnamed: 0": 106,
          "b19013001": 54140,
          "geoid": "05000US10001",
          "name": "Kent County, Delaware"
         },
         {
          "Unnamed: 0": 107,
          "b19013001": 67274,
          "geoid": "05000US10003",
          "name": "New Castle County, Delaware"
         },
         {
          "Unnamed: 0": 108,
          "b19013001": 57734,
          "geoid": "05000US10005",
          "name": "Sussex County, Delaware"
         },
         {
          "Unnamed: 0": 109,
          "b19013001": 45304,
          "geoid": "05000US12001",
          "name": "Alachua County, Florida"
         },
         {
          "Unnamed: 0": 110,
          "b19013001": 49157,
          "geoid": "05000US12005",
          "name": "Bay County, Florida"
         },
         {
          "Unnamed: 0": 111,
          "b19013001": 51184,
          "geoid": "05000US12009",
          "name": "Brevard County, Florida"
         },
         {
          "Unnamed: 0": 112,
          "b19013001": 54212,
          "geoid": "05000US12011",
          "name": "Broward County, Florida"
         },
         {
          "Unnamed: 0": 113,
          "b19013001": 44200,
          "geoid": "05000US12015",
          "name": "Charlotte County, Florida"
         },
         {
          "Unnamed: 0": 114,
          "b19013001": 39206,
          "geoid": "05000US12017",
          "name": "Citrus County, Florida"
         },
         {
          "Unnamed: 0": 115,
          "b19013001": 56315,
          "geoid": "05000US12019",
          "name": "Clay County, Florida"
         },
         {
          "Unnamed: 0": 116,
          "b19013001": 61228,
          "geoid": "05000US12021",
          "name": "Collier County, Florida"
         },
         {
          "Unnamed: 0": 117,
          "b19013001": 42019,
          "geoid": "05000US12023",
          "name": "Columbia County, Florida"
         },
         {
          "Unnamed: 0": 118,
          "b19013001": 51980,
          "geoid": "05000US12031",
          "name": "Duval County, Florida"
         },
         {
          "Unnamed: 0": 119,
          "b19013001": 44788,
          "geoid": "05000US12033",
          "name": "Escambia County, Florida"
         },
         {
          "Unnamed: 0": 120,
          "b19013001": 49395,
          "geoid": "05000US12035",
          "name": "Flagler County, Florida"
         },
         {
          "Unnamed: 0": 121,
          "b19013001": 47253,
          "geoid": "05000US12053",
          "name": "Hernando County, Florida"
         },
         {
          "Unnamed: 0": 122,
          "b19013001": 36490,
          "geoid": "05000US12055",
          "name": "Highlands County, Florida"
         },
         {
          "Unnamed: 0": 123,
          "b19013001": 54588,
          "geoid": "05000US12057",
          "name": "Hillsborough County, Florida"
         },
         {
          "Unnamed: 0": 124,
          "b19013001": 49072,
          "geoid": "05000US12061",
          "name": "Indian River County, Florida"
         },
         {
          "Unnamed: 0": 125,
          "b19013001": 50226,
          "geoid": "05000US12069",
          "name": "Lake County, Florida"
         },
         {
          "Unnamed: 0": 126,
          "b19013001": 52909,
          "geoid": "05000US12071",
          "name": "Lee County, Florida"
         },
         {
          "Unnamed: 0": 127,
          "b19013001": 51107,
          "geoid": "05000US12073",
          "name": "Leon County, Florida"
         },
         {
          "Unnamed: 0": 128,
          "b19013001": 51748,
          "geoid": "05000US12081",
          "name": "Manatee County, Florida"
         },
         {
          "Unnamed: 0": 129,
          "b19013001": 39383,
          "geoid": "05000US12083",
          "name": "Marion County, Florida"
         },
         {
          "Unnamed: 0": 130,
          "b19013001": 54620,
          "geoid": "05000US12085",
          "name": "Martin County, Florida"
         },
         {
          "Unnamed: 0": 131,
          "b19013001": 45935,
          "geoid": "05000US12086",
          "name": "Miami-Dade County, Florida"
         },
         {
          "Unnamed: 0": 132,
          "b19013001": 65717,
          "geoid": "05000US12087",
          "name": "Monroe County, Florida"
         },
         {
          "Unnamed: 0": 133,
          "b19013001": 71515,
          "geoid": "05000US12089",
          "name": "Nassau County, Florida"
         },
         {
          "Unnamed: 0": 134,
          "b19013001": 60026,
          "geoid": "05000US12091",
          "name": "Okaloosa County, Florida"
         },
         {
          "Unnamed: 0": 135,
          "b19013001": 51335,
          "geoid": "05000US12095",
          "name": "Orange County, Florida"
         },
         {
          "Unnamed: 0": 136,
          "b19013001": 51436,
          "geoid": "05000US12097",
          "name": "Osceola County, Florida"
         },
         {
          "Unnamed: 0": 137,
          "b19013001": 57580,
          "geoid": "05000US12099",
          "name": "Palm Beach County, Florida"
         },
         {
          "Unnamed: 0": 138,
          "b19013001": 46264,
          "geoid": "05000US12101",
          "name": "Pasco County, Florida"
         },
         {
          "Unnamed: 0": 139,
          "b19013001": 50036,
          "geoid": "05000US12103",
          "name": "Pinellas County, Florida"
         },
         {
          "Unnamed: 0": 140,
          "b19013001": 46355,
          "geoid": "05000US12105",
          "name": "Polk County, Florida"
         },
         {
          "Unnamed: 0": 141,
          "b19013001": 38239,
          "geoid": "05000US12107",
          "name": "Putnam County, Florida"
         },
         {
          "Unnamed: 0": 142,
          "b19013001": 78581,
          "geoid": "05000US12109",
          "name": "St. Johns County, Florida"
         },
         {
          "Unnamed: 0": 143,
          "b19013001": 44804,
          "geoid": "05000US12111",
          "name": "St. Lucie County, Florida"
         },
         {
          "Unnamed: 0": 144,
          "b19013001": 63619,
          "geoid": "05000US12113",
          "name": "Santa Rosa County, Florida"
         },
         {
          "Unnamed: 0": 145,
          "b19013001": 54989,
          "geoid": "05000US12115",
          "name": "Sarasota County, Florida"
         },
         {
          "Unnamed: 0": 146,
          "b19013001": 61311,
          "geoid": "05000US12117",
          "name": "Seminole County, Florida"
         },
         {
          "Unnamed: 0": 147,
          "b19013001": 54562,
          "geoid": "05000US12119",
          "name": "Sumter County, Florida"
         },
         {
          "Unnamed: 0": 148,
          "b19013001": 45366,
          "geoid": "05000US12127",
          "name": "Volusia County, Florida"
         },
         {
          "Unnamed: 0": 149,
          "b19013001": 56246,
          "geoid": "05000US12131",
          "name": "Walton County, Florida"
         },
         {
          "Unnamed: 0": 150,
          "b19013001": 72257,
          "geoid": "05000US15009",
          "name": "Maui County, Hawaii"
         },
         {
          "Unnamed: 0": 151,
          "b19013001": 54256,
          "geoid": "05000US13013",
          "name": "Barrow County, Georgia"
         },
         {
          "Unnamed: 0": 152,
          "b19013001": 51405,
          "geoid": "05000US13015",
          "name": "Bartow County, Georgia"
         },
         {
          "Unnamed: 0": 153,
          "b19013001": 36724,
          "geoid": "05000US13021",
          "name": "Bibb County, Georgia"
         },
         {
          "Unnamed: 0": 154,
          "b19013001": 43982,
          "geoid": "05000US13031",
          "name": "Bulloch County, Georgia"
         },
         {
          "Unnamed: 0": 155,
          "b19013001": 51228,
          "geoid": "05000US13045",
          "name": "Carroll County, Georgia"
         },
         {
          "Unnamed: 0": 156,
          "b19013001": 55717,
          "geoid": "05000US13047",
          "name": "Catoosa County, Georgia"
         },
         {
          "Unnamed: 0": 157,
          "b19013001": 53964,
          "geoid": "05000US13051",
          "name": "Chatham County, Georgia"
         },
         {
          "Unnamed: 0": 158,
          "b19013001": 77950,
          "geoid": "05000US13057",
          "name": "Cherokee County, Georgia"
         },
         {
          "Unnamed: 0": 159,
          "b19013001": 34999,
          "geoid": "05000US13059",
          "name": "Clarke County, Georgia"
         },
         {
          "Unnamed: 0": 160,
          "b19013001": 45252,
          "geoid": "05000US13063",
          "name": "Clayton County, Georgia"
         },
         {
          "Unnamed: 0": 161,
          "b19013001": 70947,
          "geoid": "05000US13067",
          "name": "Cobb County, Georgia"
         },
         {
          "Unnamed: 0": 162,
          "b19013001": 72737,
          "geoid": "05000US13073",
          "name": "Columbia County, Georgia"
         },
         {
          "Unnamed: 0": 163,
          "b19013001": 71220,
          "geoid": "05000US13077",
          "name": "Coweta County, Georgia"
         },
         {
          "Unnamed: 0": 164,
          "b19013001": 56109,
          "geoid": "05000US13089",
          "name": "DeKalb County, Georgia"
         },
         {
          "Unnamed: 0": 165,
          "b19013001": 37222,
          "geoid": "05000US13095",
          "name": "Dougherty County, Georgia"
         },
         {
          "Unnamed: 0": 166,
          "b19013001": 62445,
          "geoid": "05000US13097",
          "name": "Douglas County, Georgia"
         },
         {
          "Unnamed: 0": 167,
          "b19013001": 80626,
          "geoid": "05000US13113",
          "name": "Fayette County, Georgia"
         },
         {
          "Unnamed: 0": 168,
          "b19013001": 49865,
          "geoid": "05000US13115",
          "name": "Floyd County, Georgia"
         },
         {
          "Unnamed: 0": 169,
          "b19013001": 100909,
          "geoid": "05000US13117",
          "name": "Forsyth County, Georgia"
         },
         {
          "Unnamed: 0": 170,
          "b19013001": 63510,
          "geoid": "05000US13121",
          "name": "Fulton County, Georgia"
         },
         {
          "Unnamed: 0": 171,
          "b19013001": 48926,
          "geoid": "05000US13127",
          "name": "Glynn County, Georgia"
         },
         {
          "Unnamed: 0": 172,
          "b19013001": 67155,
          "geoid": "05000US13135",
          "name": "Gwinnett County, Georgia"
         },
         {
          "Unnamed: 0": 173,
          "b19013001": 54917,
          "geoid": "05000US13139",
          "name": "Hall County, Georgia"
         },
         {
          "Unnamed: 0": 174,
          "b19013001": 66905,
          "geoid": "05000US13151",
          "name": "Henry County, Georgia"
         },
         {
          "Unnamed: 0": 175,
          "b19013001": 62493,
          "geoid": "05000US13153",
          "name": "Houston County, Georgia"
         },
         {
          "Unnamed: 0": 176,
          "b19013001": 45138,
          "geoid": "05000US13179",
          "name": "Liberty County, Georgia"
         },
         {
          "Unnamed: 0": 177,
          "b19013001": 41449,
          "geoid": "05000US13185",
          "name": "Lowndes County, Georgia"
         },
         {
          "Unnamed: 0": 178,
          "b19013001": 40060,
          "geoid": "05000US13215",
          "name": "Muscogee County, Georgia"
         },
         {
          "Unnamed: 0": 179,
          "b19013001": 48628,
          "geoid": "05000US13217",
          "name": "Newton County, Georgia"
         },
         {
          "Unnamed: 0": 180,
          "b19013001": 60856,
          "geoid": "05000US13223",
          "name": "Paulding County, Georgia"
         },
         {
          "Unnamed: 0": 181,
          "b19013001": 41419,
          "geoid": "05000US13245",
          "name": "Richmond County, Georgia"
         },
         {
          "Unnamed: 0": 182,
          "b19013001": 56820,
          "geoid": "05000US13247",
          "name": "Rockdale County, Georgia"
         },
         {
          "Unnamed: 0": 183,
          "b19013001": 42371,
          "geoid": "05000US13285",
          "name": "Troup County, Georgia"
         },
         {
          "Unnamed: 0": 184,
          "b19013001": 39209,
          "geoid": "05000US13295",
          "name": "Walker County, Georgia"
         },
         {
          "Unnamed: 0": 185,
          "b19013001": 53202,
          "geoid": "05000US13297",
          "name": "Walton County, Georgia"
         },
         {
          "Unnamed: 0": 186,
          "b19013001": 46399,
          "geoid": "05000US13313",
          "name": "Whitfield County, Georgia"
         },
         {
          "Unnamed: 0": 187,
          "b19013001": 55750,
          "geoid": "05000US15001",
          "name": "Hawaii County, Hawaii"
         },
         {
          "Unnamed: 0": 188,
          "b19013001": 80513,
          "geoid": "05000US15003",
          "name": "Honolulu County, Hawaii"
         },
         {
          "Unnamed: 0": 189,
          "b19013001": 71344,
          "geoid": "05000US15007",
          "name": "Kauai County, Hawaii"
         },
         {
          "Unnamed: 0": 190,
          "b19013001": 50470,
          "geoid": "05000US19013",
          "name": "Black Hawk County, Iowa"
         },
         {
          "Unnamed: 0": 191,
          "b19013001": 75899,
          "geoid": "05000US19049",
          "name": "Dallas County, Iowa"
         },
         {
          "Unnamed: 0": 192,
          "b19013001": 60456,
          "geoid": "05000US19061",
          "name": "Dubuque County, Iowa"
         },
         {
          "Unnamed: 0": 193,
          "b19013001": 58064,
          "geoid": "05000US19103",
          "name": "Johnson County, Iowa"
         },
         {
          "Unnamed: 0": 194,
          "b19013001": 64639,
          "geoid": "05000US19113",
          "name": "Linn County, Iowa"
         },
         {
          "Unnamed: 0": 195,
          "b19013001": 64067,
          "geoid": "05000US19153",
          "name": "Polk County, Iowa"
         },
         {
          "Unnamed: 0": 196,
          "b19013001": 55972,
          "geoid": "05000US19155",
          "name": "Pottawattamie County, Iowa"
         },
         {
          "Unnamed: 0": 197,
          "b19013001": 54730,
          "geoid": "05000US19163",
          "name": "Scott County, Iowa"
         },
         {
          "Unnamed: 0": 198,
          "b19013001": 53371,
          "geoid": "05000US19169",
          "name": "Story County, Iowa"
         },
         {
          "Unnamed: 0": 199,
          "b19013001": 52324,
          "geoid": "05000US19193",
          "name": "Woodbury County, Iowa"
         },
         {
          "Unnamed: 0": 200,
          "b19013001": 61301,
          "geoid": "05000US16001",
          "name": "Ada County, Idaho"
         },
         {
          "Unnamed: 0": 201,
          "b19013001": 48429,
          "geoid": "05000US16005",
          "name": "Bannock County, Idaho"
         },
         {
          "Unnamed: 0": 202,
          "b19013001": 59706,
          "geoid": "05000US16019",
          "name": "Bonneville County, Idaho"
         },
         {
          "Unnamed: 0": 203,
          "b19013001": 48437,
          "geoid": "05000US16027",
          "name": "Canyon County, Idaho"
         },
         {
          "Unnamed: 0": 204,
          "b19013001": 51765,
          "geoid": "05000US16055",
          "name": "Kootenai County, Idaho"
         },
         {
          "Unnamed: 0": 205,
          "b19013001": 51210,
          "geoid": "05000US16083",
          "name": "Twin Falls County, Idaho"
         },
         {
          "Unnamed: 0": 206,
          "b19013001": 51624,
          "geoid": "05000US17001",
          "name": "Adams County, Illinois"
         },
         {
          "Unnamed: 0": 207,
          "b19013001": 50335,
          "geoid": "05000US17019",
          "name": "Champaign County, Illinois"
         },
         {
          "Unnamed: 0": 208,
          "b19013001": 60046,
          "geoid": "05000US17031",
          "name": "Cook County, Illinois"
         },
         {
          "Unnamed: 0": 209,
          "b19013001": 59285,
          "geoid": "05000US17037",
          "name": "DeKalb County, Illinois"
         },
         {
          "Unnamed: 0": 210,
          "b19013001": 84908,
          "geoid": "05000US17043",
          "name": "DuPage County, Illinois"
         },
         {
          "Unnamed: 0": 211,
          "b19013001": 73347,
          "geoid": "05000US17089",
          "name": "Kane County, Illinois"
         },
         {
          "Unnamed: 0": 212,
          "b19013001": 54911,
          "geoid": "05000US17091",
          "name": "Kankakee County, Illinois"
         },
         {
          "Unnamed: 0": 213,
          "b19013001": 90482,
          "geoid": "05000US17093",
          "name": "Kendall County, Illinois"
         },
         {
          "Unnamed: 0": 214,
          "b19013001": 83152,
          "geoid": "05000US17097",
          "name": "Lake County, Illinois"
         },
         {
          "Unnamed: 0": 215,
          "b19013001": 57476,
          "geoid": "05000US17099",
          "name": "LaSalle County, Illinois"
         },
         {
          "Unnamed: 0": 216,
          "b19013001": 81063,
          "geoid": "05000US17111",
          "name": "McHenry County, Illinois"
         },
         {
          "Unnamed: 0": 217,
          "b19013001": 62156,
          "geoid": "05000US17113",
          "name": "McLean County, Illinois"
         },
         {
          "Unnamed: 0": 218,
          "b19013001": 46198,
          "geoid": "05000US17115",
          "name": "Macon County, Illinois"
         },
         {
          "Unnamed: 0": 219,
          "b19013001": 56035,
          "geoid": "05000US17119",
          "name": "Madison County, Illinois"
         },
         {
          "Unnamed: 0": 220,
          "b19013001": 51975,
          "geoid": "05000US17143",
          "name": "Peoria County, Illinois"
         },
         {
          "Unnamed: 0": 221,
          "b19013001": 50948,
          "geoid": "05000US17161",
          "name": "Rock Island County, Illinois"
         },
         {
          "Unnamed: 0": 222,
          "b19013001": 50267,
          "geoid": "05000US17163",
          "name": "St. Clair County, Illinois"
         },
         {
          "Unnamed: 0": 223,
          "b19013001": 53782,
          "geoid": "05000US17167",
          "name": "Sangamon County, Illinois"
         },
         {
          "Unnamed: 0": 224,
          "b19013001": 60152,
          "geoid": "05000US17179",
          "name": "Tazewell County, Illinois"
         },
         {
          "Unnamed: 0": 225,
          "b19013001": 45481,
          "geoid": "05000US17183",
          "name": "Vermilion County, Illinois"
         },
         {
          "Unnamed: 0": 226,
          "b19013001": 81438,
          "geoid": "05000US17197",
          "name": "Will County, Illinois"
         },
         {
          "Unnamed: 0": 227,
          "b19013001": 48409,
          "geoid": "05000US17199",
          "name": "Williamson County, Illinois"
         },
         {
          "Unnamed: 0": 228,
          "b19013001": 49749,
          "geoid": "05000US17201",
          "name": "Winnebago County, Illinois"
         },
         {
          "Unnamed: 0": 229,
          "b19013001": 51173,
          "geoid": "05000US18003",
          "name": "Allen County, Indiana"
         },
         {
          "Unnamed: 0": 230,
          "b19013001": 59102,
          "geoid": "05000US18005",
          "name": "Bartholomew County, Indiana"
         },
         {
          "Unnamed: 0": 231,
          "b19013001": 51401,
          "geoid": "05000US18019",
          "name": "Clark County, Indiana"
         },
         {
          "Unnamed: 0": 232,
          "b19013001": 41041,
          "geoid": "05000US18035",
          "name": "Delaware County, Indiana"
         },
         {
          "Unnamed: 0": 233,
          "b19013001": 54216,
          "geoid": "05000US18039",
          "name": "Elkhart County, Indiana"
         },
         {
          "Unnamed: 0": 234,
          "b19013001": 58586,
          "geoid": "05000US18043",
          "name": "Floyd County, Indiana"
         },
         {
          "Unnamed: 0": 235,
          "b19013001": 37117,
          "geoid": "05000US18053",
          "name": "Grant County, Indiana"
         },
         {
          "Unnamed: 0": 236,
          "b19013001": 89823,
          "geoid": "05000US18057",
          "name": "Hamilton County, Indiana"
         },
         {
          "Unnamed: 0": 237,
          "b19013001": 67799,
          "geoid": "05000US18059",
          "name": "Hancock County, Indiana"
         },
         {
          "Unnamed: 0": 238,
          "b19013001": 78307,
          "geoid": "05000US18063",
          "name": "Hendricks County, Indiana"
         },
         {
          "Unnamed: 0": 239,
          "b19013001": 45702,
          "geoid": "05000US18067",
          "name": "Howard County, Indiana"
         },
         {
          "Unnamed: 0": 240,
          "b19013001": 65991,
          "geoid": "05000US18081",
          "name": "Johnson County, Indiana"
         },
         {
          "Unnamed: 0": 241,
          "b19013001": 53963,
          "geoid": "05000US18085",
          "name": "Kosciusko County, Indiana"
         },
         {
          "Unnamed: 0": 242,
          "b19013001": 53681,
          "geoid": "05000US18089",
          "name": "Lake County, Indiana"
         },
         {
          "Unnamed: 0": 243,
          "b19013001": 53507,
          "geoid": "05000US18091",
          "name": "LaPorte County, Indiana"
         },
         {
          "Unnamed: 0": 244,
          "b19013001": 45495,
          "geoid": "05000US18095",
          "name": "Madison County, Indiana"
         },
         {
          "Unnamed: 0": 245,
          "b19013001": 44874,
          "geoid": "05000US18097",
          "name": "Marion County, Indiana"
         },
         {
          "Unnamed: 0": 246,
          "b19013001": 43582,
          "geoid": "05000US18105",
          "name": "Monroe County, Indiana"
         },
         {
          "Unnamed: 0": 247,
          "b19013001": 60530,
          "geoid": "05000US18109",
          "name": "Morgan County, Indiana"
         },
         {
          "Unnamed: 0": 248,
          "b19013001": 66196,
          "geoid": "05000US18127",
          "name": "Porter County, Indiana"
         },
         {
          "Unnamed: 0": 249,
          "b19013001": 48358,
          "geoid": "05000US18141",
          "name": "St. Joseph County, Indiana"
         },
         {
          "Unnamed: 0": 250,
          "b19013001": 51361,
          "geoid": "05000US18157",
          "name": "Tippecanoe County, Indiana"
         },
         {
          "Unnamed: 0": 251,
          "b19013001": 46064,
          "geoid": "05000US18163",
          "name": "Vanderburgh County, Indiana"
         },
         {
          "Unnamed: 0": 252,
          "b19013001": 43910,
          "geoid": "05000US18167",
          "name": "Vigo County, Indiana"
         },
         {
          "Unnamed: 0": 253,
          "b19013001": 43401,
          "geoid": "05000US18177",
          "name": "Wayne County, Indiana"
         },
         {
          "Unnamed: 0": 254,
          "b19013001": 60182,
          "geoid": "05000US20015",
          "name": "Butler County, Kansas"
         },
         {
          "Unnamed: 0": 255,
          "b19013001": 56345,
          "geoid": "05000US20045",
          "name": "Douglas County, Kansas"
         },
         {
          "Unnamed: 0": 256,
          "b19013001": 80553,
          "geoid": "05000US20091",
          "name": "Johnson County, Kansas"
         },
         {
          "Unnamed: 0": 257,
          "b19013001": 68299,
          "geoid": "05000US20103",
          "name": "Leavenworth County, Kansas"
         },
         {
          "Unnamed: 0": 258,
          "b19013001": 50737,
          "geoid": "05000US20161",
          "name": "Riley County, Kansas"
         },
         {
          "Unnamed: 0": 259,
          "b19013001": 52193,
          "geoid": "05000US20173",
          "name": "Sedgwick County, Kansas"
         },
         {
          "Unnamed: 0": 260,
          "b19013001": 55710,
          "geoid": "05000US20177",
          "name": "Shawnee County, Kansas"
         },
         {
          "Unnamed: 0": 261,
          "b19013001": 43129,
          "geoid": "05000US20209",
          "name": "Wyandotte County, Kansas"
         },
         {
          "Unnamed: 0": 262,
          "b19013001": 72374,
          "geoid": "05000US21015",
          "name": "Boone County, Kentucky"
         },
         {
          "Unnamed: 0": 263,
          "b19013001": 65359,
          "geoid": "05000US21029",
          "name": "Bullitt County, Kentucky"
         },
         {
          "Unnamed: 0": 264,
          "b19013001": 62536,
          "geoid": "05000US21037",
          "name": "Campbell County, Kentucky"
         },
         {
          "Unnamed: 0": 265,
          "b19013001": 41140,
          "geoid": "05000US21047",
          "name": "Christian County, Kentucky"
         },
         {
          "Unnamed: 0": 266,
          "b19013001": 51764,
          "geoid": "05000US21059",
          "name": "Daviess County, Kentucky"
         },
         {
          "Unnamed: 0": 267,
          "b19013001": 53178,
          "geoid": "05000US21067",
          "name": "Fayette County, Kentucky"
         },
         {
          "Unnamed: 0": 268,
          "b19013001": 52148,
          "geoid": "05000US21093",
          "name": "Hardin County, Kentucky"
         },
         {
          "Unnamed: 0": 269,
          "b19013001": 51991,
          "geoid": "05000US21111",
          "name": "Jefferson County, Kentucky"
         },
         {
          "Unnamed: 0": 270,
          "b19013001": 62182,
          "geoid": "05000US21117",
          "name": "Kenton County, Kentucky"
         },
         {
          "Unnamed: 0": 271,
          "b19013001": 39048,
          "geoid": "05000US21145",
          "name": "McCracken County, Kentucky"
         },
         {
          "Unnamed: 0": 272,
          "b19013001": 43840,
          "geoid": "05000US21151",
          "name": "Madison County, Kentucky"
         },
         {
          "Unnamed: 0": 273,
          "b19013001": 90341,
          "geoid": "05000US21185",
          "name": "Oldham County, Kentucky"
         },
         {
          "Unnamed: 0": 274,
          "b19013001": 46686,
          "geoid": "05000US21227",
          "name": "Warren County, Kentucky"
         },
         {
          "Unnamed: 0": 275,
          "b19013001": 61796,
          "geoid": "05000US25025",
          "name": "Suffolk County, Massachusetts"
         },
         {
          "Unnamed: 0": 276,
          "b19013001": 76581,
          "geoid": "05000US22005",
          "name": "Ascension Parish, Louisiana"
         },
         {
          "Unnamed: 0": 277,
          "b19013001": 48163,
          "geoid": "05000US22015",
          "name": "Bossier Parish, Louisiana"
         },
         {
          "Unnamed: 0": 278,
          "b19013001": 37104,
          "geoid": "05000US22017",
          "name": "Caddo Parish, Louisiana"
         },
         {
          "Unnamed: 0": 279,
          "b19013001": 45962,
          "geoid": "05000US22019",
          "name": "Calcasieu Parish, Louisiana"
         },
         {
          "Unnamed: 0": 280,
          "b19013001": 50508,
          "geoid": "05000US22033",
          "name": "East Baton Rouge Parish, Louisiana"
         },
         {
          "Unnamed: 0": 281,
          "b19013001": 41424,
          "geoid": "05000US22045",
          "name": "Iberia Parish, Louisiana"
         },
         {
          "Unnamed: 0": 282,
          "b19013001": 49678,
          "geoid": "05000US22051",
          "name": "Jefferson Parish, Louisiana"
         },
         {
          "Unnamed: 0": 283,
          "b19013001": 49969,
          "geoid": "05000US22055",
          "name": "Lafayette Parish, Louisiana"
         },
         {
          "Unnamed: 0": 284,
          "b19013001": 51772,
          "geoid": "05000US22057",
          "name": "Lafourche Parish, Louisiana"
         },
         {
          "Unnamed: 0": 285,
          "b19013001": 56534,
          "geoid": "05000US22063",
          "name": "Livingston Parish, Louisiana"
         },
         {
          "Unnamed: 0": 286,
          "b19013001": 38681,
          "geoid": "05000US22071",
          "name": "Orleans Parish, Louisiana"
         },
         {
          "Unnamed: 0": 287,
          "b19013001": 37275,
          "geoid": "05000US22073",
          "name": "Ouachita Parish, Louisiana"
         },
         {
          "Unnamed: 0": 288,
          "b19013001": 42582,
          "geoid": "05000US22079",
          "name": "Rapides Parish, Louisiana"
         },
         {
          "Unnamed: 0": 289,
          "b19013001": 31207,
          "geoid": "05000US22097",
          "name": "St. Landry Parish, Louisiana"
         },
         {
          "Unnamed: 0": 290,
          "b19013001": 64639,
          "geoid": "05000US22103",
          "name": "St. Tammany Parish, Louisiana"
         },
         {
          "Unnamed: 0": 291,
          "b19013001": 48162,
          "geoid": "05000US22105",
          "name": "Tangipahoa Parish, Louisiana"
         },
         {
          "Unnamed: 0": 292,
          "b19013001": 46026,
          "geoid": "05000US22109",
          "name": "Terrebonne Parish, Louisiana"
         },
         {
          "Unnamed: 0": 293,
          "b19013001": 67898,
          "geoid": "05000US25001",
          "name": "Barnstable County, Massachusetts"
         },
         {
          "Unnamed: 0": 294,
          "b19013001": 58418,
          "geoid": "05000US25003",
          "name": "Berkshire County, Massachusetts"
         },
         {
          "Unnamed: 0": 295,
          "b19013001": 66027,
          "geoid": "05000US25005",
          "name": "Bristol County, Massachusetts"
         },
         {
          "Unnamed: 0": 296,
          "b19013001": 73901,
          "geoid": "05000US25009",
          "name": "Essex County, Massachusetts"
         },
         {
          "Unnamed: 0": 297,
          "b19013001": 57106,
          "geoid": "05000US25011",
          "name": "Franklin County, Massachusetts"
         },
         {
          "Unnamed: 0": 298,
          "b19013001": 51544,
          "geoid": "05000US25013",
          "name": "Hampden County, Massachusetts"
         },
         {
          "Unnamed: 0": 299,
          "b19013001": 64354,
          "geoid": "05000US25015",
          "name": "Hampshire County, Massachusetts"
         },
         {
          "Unnamed: 0": 300,
          "b19013001": 95249,
          "geoid": "05000US25017",
          "name": "Middlesex County, Massachusetts"
         },
         {
          "Unnamed: 0": 301,
          "b19013001": 92696,
          "geoid": "05000US25021",
          "name": "Norfolk County, Massachusetts"
         },
         {
          "Unnamed: 0": 302,
          "b19013001": 82087,
          "geoid": "05000US25023",
          "name": "Plymouth County, Massachusetts"
         },
         {
          "Unnamed: 0": 303,
          "b19013001": 69295,
          "geoid": "05000US25027",
          "name": "Worcester County, Massachusetts"
         },
         {
          "Unnamed: 0": 304,
          "b19013001": 45606,
          "geoid": "05000US24001",
          "name": "Allegany County, Maryland"
         },
         {
          "Unnamed: 0": 305,
          "b19013001": 96483,
          "geoid": "05000US24003",
          "name": "Anne Arundel County, Maryland"
         },
         {
          "Unnamed: 0": 306,
          "b19013001": 72764,
          "geoid": "05000US24005",
          "name": "Baltimore County, Maryland"
         },
         {
          "Unnamed: 0": 307,
          "b19013001": 98732,
          "geoid": "05000US24009",
          "name": "Calvert County, Maryland"
         },
         {
          "Unnamed: 0": 308,
          "b19013001": 90343,
          "geoid": "05000US24013",
          "name": "Carroll County, Maryland"
         },
         {
          "Unnamed: 0": 309,
          "b19013001": 74221,
          "geoid": "05000US24015",
          "name": "Cecil County, Maryland"
         },
         {
          "Unnamed: 0": 310,
          "b19013001": 95735,
          "geoid": "05000US24017",
          "name": "Charles County, Maryland"
         },
         {
          "Unnamed: 0": 311,
          "b19013001": 90043,
          "geoid": "05000US24021",
          "name": "Frederick County, Maryland"
         },
         {
          "Unnamed: 0": 312,
          "b19013001": 84175,
          "geoid": "05000US24025",
          "name": "Harford County, Maryland"
         },
         {
          "Unnamed: 0": 313,
          "b19013001": 120941,
          "geoid": "05000US24027",
          "name": "Howard County, Maryland"
         },
         {
          "Unnamed: 0": 314,
          "b19013001": 99763,
          "geoid": "05000US24031",
          "name": "Montgomery County, Maryland"
         },
         {
          "Unnamed: 0": 315,
          "b19013001": 79184,
          "geoid": "05000US24033",
          "name": "Prince George's County, Maryland"
         },
         {
          "Unnamed: 0": 316,
          "b19013001": 78195,
          "geoid": "05000US24037",
          "name": "St. Mary's County, Maryland"
         },
         {
          "Unnamed: 0": 317,
          "b19013001": 54250,
          "geoid": "05000US24043",
          "name": "Washington County, Maryland"
         },
         {
          "Unnamed: 0": 318,
          "b19013001": 50844,
          "geoid": "05000US24045",
          "name": "Wicomico County, Maryland"
         },
         {
          "Unnamed: 0": 319,
          "b19013001": 47350,
          "geoid": "05000US24510",
          "name": "Baltimore city, Maryland"
         },
         {
          "Unnamed: 0": 320,
          "b19013001": 49081,
          "geoid": "05000US23001",
          "name": "Androscoggin County, Maine"
         },
         {
          "Unnamed: 0": 321,
          "b19013001": 39450,
          "geoid": "05000US23003",
          "name": "Aroostook County, Maine"
         },
         {
          "Unnamed: 0": 322,
          "b19013001": 65913,
          "geoid": "05000US23005",
          "name": "Cumberland County, Maine"
         },
         {
          "Unnamed: 0": 323,
          "b19013001": 51573,
          "geoid": "05000US23011",
          "name": "Kennebec County, Maine"
         },
         {
          "Unnamed: 0": 324,
          "b19013001": 47328,
          "geoid": "05000US23019",
          "name": "Penobscot County, Maine"
         },
         {
          "Unnamed: 0": 325,
          "b19013001": 60863,
          "geoid": "05000US23031",
          "name": "York County, Maine"
         },
         {
          "Unnamed: 0": 326,
          "b19013001": 57846,
          "geoid": "05000US26005",
          "name": "Allegan County, Michigan"
         },
         {
          "Unnamed: 0": 327,
          "b19013001": 44756,
          "geoid": "05000US26017",
          "name": "Bay County, Michigan"
         },
         {
          "Unnamed: 0": 328,
          "b19013001": 47083,
          "geoid": "05000US26021",
          "name": "Berrien County, Michigan"
         },
         {
          "Unnamed: 0": 329,
          "b19013001": 45902,
          "geoid": "05000US26025",
          "name": "Calhoun County, Michigan"
         },
         {
          "Unnamed: 0": 330,
          "b19013001": 65730,
          "geoid": "05000US26037",
          "name": "Clinton County, Michigan"
         },
         {
          "Unnamed: 0": 331,
          "b19013001": 56211,
          "geoid": "05000US26045",
          "name": "Eaton County, Michigan"
         },
         {
          "Unnamed: 0": 332,
          "b19013001": 43955,
          "geoid": "05000US26049",
          "name": "Genesee County, Michigan"
         },
         {
          "Unnamed: 0": 333,
          "b19013001": 58532,
          "geoid": "05000US26055",
          "name": "Grand Traverse County, Michigan"
         },
         {
          "Unnamed: 0": 334,
          "b19013001": 49139,
          "geoid": "05000US26065",
          "name": "Ingham County, Michigan"
         },
         {
          "Unnamed: 0": 335,
          "b19013001": 41868,
          "geoid": "05000US26073",
          "name": "Isabella County, Michigan"
         },
         {
          "Unnamed: 0": 336,
          "b19013001": 50009,
          "geoid": "05000US26075",
          "name": "Jackson County, Michigan"
         },
         {
          "Unnamed: 0": 337,
          "b19013001": 53138,
          "geoid": "05000US26077",
          "name": "Kalamazoo County, Michigan"
         },
         {
          "Unnamed: 0": 338,
          "b19013001": 59668,
          "geoid": "05000US26081",
          "name": "Kent County, Michigan"
         },
         {
          "Unnamed: 0": 339,
          "b19013001": 54309,
          "geoid": "05000US26087",
          "name": "Lapeer County, Michigan"
         },
         {
          "Unnamed: 0": 340,
          "b19013001": 51918,
          "geoid": "05000US26091",
          "name": "Lenawee County, Michigan"
         },
         {
          "Unnamed: 0": 341,
          "b19013001": 78038,
          "geoid": "05000US26093",
          "name": "Livingston County, Michigan"
         },
         {
          "Unnamed: 0": 342,
          "b19013001": 60143,
          "geoid": "05000US26099",
          "name": "Macomb County, Michigan"
         },
         {
          "Unnamed: 0": 343,
          "b19013001": 51275,
          "geoid": "05000US26103",
          "name": "Marquette County, Michigan"
         },
         {
          "Unnamed: 0": 344,
          "b19013001": 57269,
          "geoid": "05000US26111",
          "name": "Midland County, Michigan"
         },
         {
          "Unnamed: 0": 345,
          "b19013001": 60799,
          "geoid": "05000US26115",
          "name": "Monroe County, Michigan"
         },
         {
          "Unnamed: 0": 346,
          "b19013001": 44264,
          "geoid": "05000US26121",
          "name": "Muskegon County, Michigan"
         },
         {
          "Unnamed: 0": 347,
          "b19013001": 71920,
          "geoid": "05000US26125",
          "name": "Oakland County, Michigan"
         },
         {
          "Unnamed: 0": 348,
          "b19013001": 64513,
          "geoid": "05000US26139",
          "name": "Ottawa County, Michigan"
         },
         {
          "Unnamed: 0": 349,
          "b19013001": 45849,
          "geoid": "05000US26145",
          "name": "Saginaw County, Michigan"
         },
         {
          "Unnamed: 0": 350,
          "b19013001": 51864,
          "geoid": "05000US26147",
          "name": "St. Clair County, Michigan"
         },
         {
          "Unnamed: 0": 351,
          "b19013001": 53244,
          "geoid": "05000US26155",
          "name": "Shiawassee County, Michigan"
         },
         {
          "Unnamed: 0": 352,
          "b19013001": 47917,
          "geoid": "05000US26159",
          "name": "Van Buren County, Michigan"
         },
         {
          "Unnamed: 0": 353,
          "b19013001": 65601,
          "geoid": "05000US26161",
          "name": "Washtenaw County, Michigan"
         },
         {
          "Unnamed: 0": 354,
          "b19013001": 43464,
          "geoid": "05000US26163",
          "name": "Wayne County, Michigan"
         },
         {
          "Unnamed: 0": 355,
          "b19013001": 76533,
          "geoid": "05000US27003",
          "name": "Anoka County, Minnesota"
         },
         {
          "Unnamed: 0": 356,
          "b19013001": 53869,
          "geoid": "05000US27013",
          "name": "Blue Earth County, Minnesota"
         },
         {
          "Unnamed: 0": 357,
          "b19013001": 92455,
          "geoid": "05000US27019",
          "name": "Carver County, Minnesota"
         },
         {
          "Unnamed: 0": 358,
          "b19013001": 78662,
          "geoid": "05000US27037",
          "name": "Dakota County, Minnesota"
         },
         {
          "Unnamed: 0": 359,
          "b19013001": 71200,
          "geoid": "05000US27053",
          "name": "Hennepin County, Minnesota"
         },
         {
          "Unnamed: 0": 360,
          "b19013001": 72428,
          "geoid": "05000US27109",
          "name": "Olmsted County, Minnesota"
         },
         {
          "Unnamed: 0": 361,
          "b19013001": 60369,
          "geoid": "05000US27123",
          "name": "Ramsey County, Minnesota"
         },
         {
          "Unnamed: 0": 362,
          "b19013001": 69135,
          "geoid": "05000US27131",
          "name": "Rice County, Minnesota"
         },
         {
          "Unnamed: 0": 363,
          "b19013001": 49825,
          "geoid": "05000US27137",
          "name": "St. Louis County, Minnesota"
         },
         {
          "Unnamed: 0": 364,
          "b19013001": 88765,
          "geoid": "05000US27139",
          "name": "Scott County, Minnesota"
         },
         {
          "Unnamed: 0": 365,
          "b19013001": 83675,
          "geoid": "05000US27141",
          "name": "Sherburne County, Minnesota"
         },
         {
          "Unnamed: 0": 366,
          "b19013001": 57728,
          "geoid": "05000US27145",
          "name": "Stearns County, Minnesota"
         },
         {
          "Unnamed: 0": 367,
          "b19013001": 90256,
          "geoid": "05000US27163",
          "name": "Washington County, Minnesota"
         },
         {
          "Unnamed: 0": 368,
          "b19013001": 74190,
          "geoid": "05000US27171",
          "name": "Wright County, Minnesota"
         },
         {
          "Unnamed: 0": 369,
          "b19013001": 52752,
          "geoid": "05000US29019",
          "name": "Boone County, Missouri"
         },
         {
          "Unnamed: 0": 370,
          "b19013001": 48550,
          "geoid": "05000US29021",
          "name": "Buchanan County, Missouri"
         },
         {
          "Unnamed: 0": 371,
          "b19013001": 50223,
          "geoid": "05000US29031",
          "name": "Cape Girardeau County, Missouri"
         },
         {
          "Unnamed: 0": 372,
          "b19013001": 63420,
          "geoid": "05000US29037",
          "name": "Cass County, Missouri"
         },
         {
          "Unnamed: 0": 373,
          "b19013001": 53172,
          "geoid": "05000US29043",
          "name": "Christian County, Missouri"
         },
         {
          "Unnamed: 0": 374,
          "b19013001": 65430,
          "geoid": "05000US29047",
          "name": "Clay County, Missouri"
         },
         {
          "Unnamed: 0": 375,
          "b19013001": 55303,
          "geoid": "05000US29051",
          "name": "Cole County, Missouri"
         },
         {
          "Unnamed: 0": 376,
          "b19013001": 55359,
          "geoid": "05000US29071",
          "name": "Franklin County, Missouri"
         },
         {
          "Unnamed: 0": 377,
          "b19013001": 42062,
          "geoid": "05000US29077",
          "name": "Greene County, Missouri"
         },
         {
          "Unnamed: 0": 378,
          "b19013001": 50815,
          "geoid": "05000US29095",
          "name": "Jackson County, Missouri"
         },
         {
          "Unnamed: 0": 379,
          "b19013001": 45786,
          "geoid": "05000US29097",
          "name": "Jasper County, Missouri"
         },
         {
          "Unnamed: 0": 380,
          "b19013001": 61559,
          "geoid": "05000US29099",
          "name": "Jefferson County, Missouri"
         },
         {
          "Unnamed: 0": 381,
          "b19013001": 77581,
          "geoid": "05000US29165",
          "name": "Platte County, Missouri"
         },
         {
          "Unnamed: 0": 382,
          "b19013001": 80644,
          "geoid": "05000US29183",
          "name": "St. Charles County, Missouri"
         },
         {
          "Unnamed: 0": 383,
          "b19013001": 45431,
          "geoid": "05000US29187",
          "name": "St. Francois County, Missouri"
         },
         {
          "Unnamed: 0": 384,
          "b19013001": 62572,
          "geoid": "05000US29189",
          "name": "St. Louis County, Missouri"
         },
         {
          "Unnamed: 0": 385,
          "b19013001": 40346,
          "geoid": "05000US29510",
          "name": "St. Louis city, Missouri"
         },
         {
          "Unnamed: 0": 386,
          "b19013001": 64505,
          "geoid": "05000US28033",
          "name": "DeSoto County, Mississippi"
         },
         {
          "Unnamed: 0": 387,
          "b19013001": 37275,
          "geoid": "05000US28035",
          "name": "Forrest County, Mississippi"
         },
         {
          "Unnamed: 0": 388,
          "b19013001": 42770,
          "geoid": "05000US28047",
          "name": "Harrison County, Mississippi"
         },
         {
          "Unnamed: 0": 389,
          "b19013001": 43657,
          "geoid": "05000US28049",
          "name": "Hinds County, Mississippi"
         },
         {
          "Unnamed: 0": 390,
          "b19013001": 54606,
          "geoid": "05000US28059",
          "name": "Jackson County, Mississippi"
         },
         {
          "Unnamed: 0": 391,
          "b19013001": 43350,
          "geoid": "05000US28067",
          "name": "Jones County, Mississippi"
         },
         {
          "Unnamed: 0": 392,
          "b19013001": 42364,
          "geoid": "05000US28075",
          "name": "Lauderdale County, Mississippi"
         },
         {
          "Unnamed: 0": 393,
          "b19013001": 42235,
          "geoid": "05000US28081",
          "name": "Lee County, Mississippi"
         },
         {
          "Unnamed: 0": 394,
          "b19013001": 64350,
          "geoid": "05000US28089",
          "name": "Madison County, Mississippi"
         },
         {
          "Unnamed: 0": 395,
          "b19013001": 62332,
          "geoid": "05000US28121",
          "name": "Rankin County, Mississippi"
         },
         {
          "Unnamed: 0": 396,
          "b19013001": 45138,
          "geoid": "05000US30013",
          "name": "Cascade County, Montana"
         },
         {
          "Unnamed: 0": 397,
          "b19013001": 50142,
          "geoid": "05000US30029",
          "name": "Flathead County, Montana"
         },
         {
          "Unnamed: 0": 398,
          "b19013001": 61211,
          "geoid": "05000US30031",
          "name": "Gallatin County, Montana"
         },
         {
          "Unnamed: 0": 399,
          "b19013001": 63475,
          "geoid": "05000US30049",
          "name": "Lewis and Clark County, Montana"
         },
         {
          "Unnamed: 0": 400,
          "b19013001": 46550,
          "geoid": "05000US30063",
          "name": "Missoula County, Montana"
         },
         {
          "Unnamed: 0": 401,
          "b19013001": 57945,
          "geoid": "05000US30111",
          "name": "Yellowstone County, Montana"
         },
         {
          "Unnamed: 0": 402,
          "b19013001": 45100,
          "geoid": "05000US37001",
          "name": "Alamance County, North Carolina"
         },
         {
          "Unnamed: 0": 403,
          "b19013001": 50692,
          "geoid": "05000US37019",
          "name": "Brunswick County, North Carolina"
         },
         {
          "Unnamed: 0": 404,
          "b19013001": 50685,
          "geoid": "05000US37021",
          "name": "Buncombe County, North Carolina"
         },
         {
          "Unnamed: 0": 405,
          "b19013001": 40345,
          "geoid": "05000US37023",
          "name": "Burke County, North Carolina"
         },
         {
          "Unnamed: 0": 406,
          "b19013001": 63386,
          "geoid": "05000US37025",
          "name": "Cabarrus County, North Carolina"
         },
         {
          "Unnamed: 0": 407,
          "b19013001": 36301,
          "geoid": "05000US37027",
          "name": "Caldwell County, North Carolina"
         },
         {
          "Unnamed: 0": 408,
          "b19013001": 51206,
          "geoid": "05000US37031",
          "name": "Carteret County, North Carolina"
         },
         {
          "Unnamed: 0": 409,
          "b19013001": 48913,
          "geoid": "05000US37035",
          "name": "Catawba County, North Carolina"
         },
         {
          "Unnamed: 0": 410,
          "b19013001": 62961,
          "geoid": "05000US37037",
          "name": "Chatham County, North Carolina"
         },
         {
          "Unnamed: 0": 411,
          "b19013001": 36992,
          "geoid": "05000US37045",
          "name": "Cleveland County, North Carolina"
         },
         {
          "Unnamed: 0": 412,
          "b19013001": 49938,
          "geoid": "05000US37049",
          "name": "Craven County, North Carolina"
         },
         {
          "Unnamed: 0": 413,
          "b19013001": 45205,
          "geoid": "05000US37051",
          "name": "Cumberland County, North Carolina"
         },
         {
          "Unnamed: 0": 414,
          "b19013001": 45678,
          "geoid": "05000US37057",
          "name": "Davidson County, North Carolina"
         },
         {
          "Unnamed: 0": 415,
          "b19013001": 53832,
          "geoid": "05000US37063",
          "name": "Durham County, North Carolina"
         },
         {
          "Unnamed: 0": 416,
          "b19013001": 48271,
          "geoid": "05000US37067",
          "name": "Forsyth County, North Carolina"
         },
         {
          "Unnamed: 0": 417,
          "b19013001": 48711,
          "geoid": "05000US37071",
          "name": "Gaston County, North Carolina"
         },
         {
          "Unnamed: 0": 418,
          "b19013001": 47262,
          "geoid": "05000US37081",
          "name": "Guilford County, North Carolina"
         },
         {
          "Unnamed: 0": 419,
          "b19013001": 51637,
          "geoid": "05000US37085",
          "name": "Harnett County, North Carolina"
         },
         {
          "Unnamed: 0": 420,
          "b19013001": 54963,
          "geoid": "05000US37089",
          "name": "Henderson County, North Carolina"
         },
         {
          "Unnamed: 0": 421,
          "b19013001": 55891,
          "geoid": "05000US37097",
          "name": "Iredell County, North Carolina"
         },
         {
          "Unnamed: 0": 422,
          "b19013001": 54719,
          "geoid": "05000US37101",
          "name": "Johnston County, North Carolina"
         },
         {
          "Unnamed: 0": 423,
          "b19013001": 49453,
          "geoid": "05000US37109",
          "name": "Lincoln County, North Carolina"
         },
         {
          "Unnamed: 0": 424,
          "b19013001": 62978,
          "geoid": "05000US37119",
          "name": "Mecklenburg County, North Carolina"
         },
         {
          "Unnamed: 0": 425,
          "b19013001": 52279,
          "geoid": "05000US37125",
          "name": "Moore County, North Carolina"
         },
         {
          "Unnamed: 0": 426,
          "b19013001": 47902,
          "geoid": "05000US37127",
          "name": "Nash County, North Carolina"
         },
         {
          "Unnamed: 0": 427,
          "b19013001": 50028,
          "geoid": "05000US37129",
          "name": "New Hanover County, North Carolina"
         },
         {
          "Unnamed: 0": 428,
          "b19013001": 47150,
          "geoid": "05000US37133",
          "name": "Onslow County, North Carolina"
         },
         {
          "Unnamed: 0": 429,
          "b19013001": 66423,
          "geoid": "05000US37135",
          "name": "Orange County, North Carolina"
         },
         {
          "Unnamed: 0": 430,
          "b19013001": 46573,
          "geoid": "05000US37147",
          "name": "Pitt County, North Carolina"
         },
         {
          "Unnamed: 0": 431,
          "b19013001": 44836,
          "geoid": "05000US37151",
          "name": "Randolph County, North Carolina"
         },
         {
          "Unnamed: 0": 432,
          "b19013001": 34254,
          "geoid": "05000US37155",
          "name": "Robeson County, North Carolina"
         },
         {
          "Unnamed: 0": 433,
          "b19013001": 40985,
          "geoid": "05000US37157",
          "name": "Rockingham County, North Carolina"
         },
         {
          "Unnamed: 0": 434,
          "b19013001": 48379,
          "geoid": "05000US37159",
          "name": "Rowan County, North Carolina"
         },
         {
          "Unnamed: 0": 435,
          "b19013001": 36121,
          "geoid": "05000US37161",
          "name": "Rutherford County, North Carolina"
         },
         {
          "Unnamed: 0": 436,
          "b19013001": 36802,
          "geoid": "05000US37171",
          "name": "Surry County, North Carolina"
         },
         {
          "Unnamed: 0": 437,
          "b19013001": 71588,
          "geoid": "05000US37179",
          "name": "Union County, North Carolina"
         },
         {
          "Unnamed: 0": 438,
          "b19013001": 76097,
          "geoid": "05000US37183",
          "name": "Wake County, North Carolina"
         },
         {
          "Unnamed: 0": 439,
          "b19013001": 41711,
          "geoid": "05000US37191",
          "name": "Wayne County, North Carolina"
         },
         {
          "Unnamed: 0": 440,
          "b19013001": 41332,
          "geoid": "05000US37193",
          "name": "Wilkes County, North Carolina"
         },
         {
          "Unnamed: 0": 441,
          "b19013001": 39036,
          "geoid": "05000US37195",
          "name": "Wilson County, North Carolina"
         },
         {
          "Unnamed: 0": 442,
          "b19013001": 64558,
          "geoid": "05000US38015",
          "name": "Burleigh County, North Dakota"
         },
         {
          "Unnamed: 0": 443,
          "b19013001": 59240,
          "geoid": "05000US38017",
          "name": "Cass County, North Dakota"
         },
         {
          "Unnamed: 0": 444,
          "b19013001": 50008,
          "geoid": "05000US38035",
          "name": "Grand Forks County, North Dakota"
         },
         {
          "Unnamed: 0": 445,
          "b19013001": 62573,
          "geoid": "05000US38101",
          "name": "Ward County, North Dakota"
         },
         {
          "Unnamed: 0": 446,
          "b19013001": 58990,
          "geoid": "05000US31055",
          "name": "Douglas County, Nebraska"
         },
         {
          "Unnamed: 0": 447,
          "b19013001": 58845,
          "geoid": "05000US31109",
          "name": "Lancaster County, Nebraska"
         },
         {
          "Unnamed: 0": 448,
          "b19013001": 73569,
          "geoid": "05000US31153",
          "name": "Sarpy County, Nebraska"
         },
         {
          "Unnamed: 0": 449,
          "b19013001": 56364,
          "geoid": "05000US33005",
          "name": "Cheshire County, New Hampshire"
         },
         {
          "Unnamed: 0": 450,
          "b19013001": 61520,
          "geoid": "05000US33009",
          "name": "Grafton County, New Hampshire"
         },
         {
          "Unnamed: 0": 451,
          "b19013001": 76254,
          "geoid": "05000US33011",
          "name": "Hillsborough County, New Hampshire"
         },
         {
          "Unnamed: 0": 452,
          "b19013001": 69505,
          "geoid": "05000US33013",
          "name": "Merrimack County, New Hampshire"
         },
         {
          "Unnamed: 0": 453,
          "b19013001": 81726,
          "geoid": "05000US33015",
          "name": "Rockingham County, New Hampshire"
         },
         {
          "Unnamed: 0": 454,
          "b19013001": 71295,
          "geoid": "05000US33017",
          "name": "Strafford County, New Hampshire"
         },
         {
          "Unnamed: 0": 455,
          "b19013001": 56778,
          "geoid": "05000US34001",
          "name": "Atlantic County, New Jersey"
         },
         {
          "Unnamed: 0": 456,
          "b19013001": 93683,
          "geoid": "05000US34003",
          "name": "Bergen County, New Jersey"
         },
         {
          "Unnamed: 0": 457,
          "b19013001": 80254,
          "geoid": "05000US34005",
          "name": "Burlington County, New Jersey"
         },
         {
          "Unnamed: 0": 458,
          "b19013001": 66362,
          "geoid": "05000US34007",
          "name": "Camden County, New Jersey"
         },
         {
          "Unnamed: 0": 459,
          "b19013001": 62548,
          "geoid": "05000US34009",
          "name": "Cape May County, New Jersey"
         },
         {
          "Unnamed: 0": 460,
          "b19013001": 49110,
          "geoid": "05000US34011",
          "name": "Cumberland County, New Jersey"
         },
         {
          "Unnamed: 0": 461,
          "b19013001": 54277,
          "geoid": "05000US34013",
          "name": "Essex County, New Jersey"
         },
         {
          "Unnamed: 0": 462,
          "b19013001": 79879,
          "geoid": "05000US34015",
          "name": "Gloucester County, New Jersey"
         },
         {
          "Unnamed: 0": 463,
          "b19013001": 63808,
          "geoid": "05000US34017",
          "name": "Hudson County, New Jersey"
         },
         {
          "Unnamed: 0": 464,
          "b19013001": 113684,
          "geoid": "05000US34019",
          "name": "Hunterdon County, New Jersey"
         },
         {
          "Unnamed: 0": 465,
          "b19013001": 77650,
          "geoid": "05000US34021",
          "name": "Mercer County, New Jersey"
         },
         {
          "Unnamed: 0": 466,
          "b19013001": 82375,
          "geoid": "05000US34023",
          "name": "Middlesex County, New Jersey"
         },
         {
          "Unnamed: 0": 467,
          "b19013001": 90226,
          "geoid": "05000US34025",
          "name": "Monmouth County, New Jersey"
         },
         {
          "Unnamed: 0": 468,
          "b19013001": 106985,
          "geoid": "05000US34027",
          "name": "Morris County, New Jersey"
         },
         {
          "Unnamed: 0": 469,
          "b19013001": 62222,
          "geoid": "05000US34029",
          "name": "Ocean County, New Jersey"
         },
         {
          "Unnamed: 0": 470,
          "b19013001": 62016,
          "geoid": "05000US34031",
          "name": "Passaic County, New Jersey"
         },
         {
          "Unnamed: 0": 471,
          "b19013001": 53662,
          "geoid": "05000US34033",
          "name": "Salem County, New Jersey"
         },
         {
          "Unnamed: 0": 472,
          "b19013001": 104478,
          "geoid": "05000US34035",
          "name": "Somerset County, New Jersey"
         },
         {
          "Unnamed: 0": 473,
          "b19013001": 87829,
          "geoid": "05000US34037",
          "name": "Sussex County, New Jersey"
         },
         {
          "Unnamed: 0": 474,
          "b19013001": 72028,
          "geoid": "05000US34039",
          "name": "Union County, New Jersey"
         },
         {
          "Unnamed: 0": 475,
          "b19013001": 74867,
          "geoid": "05000US34041",
          "name": "Warren County, New Jersey"
         },
         {
          "Unnamed: 0": 476,
          "b19013001": 50601,
          "geoid": "05000US35001",
          "name": "Bernalillo County, New Mexico"
         },
         {
          "Unnamed: 0": 477,
          "b19013001": 40960,
          "geoid": "05000US35005",
          "name": "Chaves County, New Mexico"
         },
         {
          "Unnamed: 0": 478,
          "b19013001": 37496,
          "geoid": "05000US35013",
          "name": "Doña Ana County, New Mexico"
         },
         {
          "Unnamed: 0": 479,
          "b19013001": 55636,
          "geoid": "05000US35025",
          "name": "Lea County, New Mexico"
         },
         {
          "Unnamed: 0": 480,
          "b19013001": 31526,
          "geoid": "05000US35031",
          "name": "McKinley County, New Mexico"
         },
         {
          "Unnamed: 0": 481,
          "b19013001": 43646,
          "geoid": "05000US35035",
          "name": "Otero County, New Mexico"
         },
         {
          "Unnamed: 0": 482,
          "b19013001": 57158,
          "geoid": "05000US35043",
          "name": "Sandoval County, New Mexico"
         },
         {
          "Unnamed: 0": 483,
          "b19013001": 52003,
          "geoid": "05000US35045",
          "name": "San Juan County, New Mexico"
         },
         {
          "Unnamed: 0": 484,
          "b19013001": 57863,
          "geoid": "05000US35049",
          "name": "Santa Fe County, New Mexico"
         },
         {
          "Unnamed: 0": 485,
          "b19013001": 43700,
          "geoid": "05000US35061",
          "name": "Valencia County, New Mexico"
         },
         {
          "Unnamed: 0": 486,
          "b19013001": 54384,
          "geoid": "05000US32003",
          "name": "Clark County, Nevada"
         },
         {
          "Unnamed: 0": 487,
          "b19013001": 58175,
          "geoid": "05000US32031",
          "name": "Washoe County, Nevada"
         },
         {
          "Unnamed: 0": 488,
          "b19013001": 61754,
          "geoid": "05000US36001",
          "name": "Albany County, New York"
         },
         {
          "Unnamed: 0": 489,
          "b19013001": 37525,
          "geoid": "05000US36005",
          "name": "Bronx County, New York"
         },
         {
          "Unnamed: 0": 490,
          "b19013001": 50463,
          "geoid": "05000US36007",
          "name": "Broome County, New York"
         },
         {
          "Unnamed: 0": 491,
          "b19013001": 46842,
          "geoid": "05000US36009",
          "name": "Cattaraugus County, New York"
         },
         {
          "Unnamed: 0": 492,
          "b19013001": 54995,
          "geoid": "05000US36011",
          "name": "Cayuga County, New York"
         },
         {
          "Unnamed: 0": 493,
          "b19013001": 42204,
          "geoid": "05000US36013",
          "name": "Chautauqua County, New York"
         },
         {
          "Unnamed: 0": 494,
          "b19013001": 51269,
          "geoid": "05000US36015",
          "name": "Chemung County, New York"
         },
         {
          "Unnamed: 0": 495,
          "b19013001": 55316,
          "geoid": "05000US36019",
          "name": "Clinton County, New York"
         },
         {
          "Unnamed: 0": 496,
          "b19013001": 74115,
          "geoid": "05000US36027",
          "name": "Dutchess County, New York"
         },
         {
          "Unnamed: 0": 497,
          "b19013001": 54246,
          "geoid": "05000US36029",
          "name": "Erie County, New York"
         },
         {
          "Unnamed: 0": 498,
          "b19013001": 45624,
          "geoid": "05000US36045",
          "name": "Jefferson County, New York"
         },
         {
          "Unnamed: 0": 499,
          "b19013001": 55150,
          "geoid": "05000US36047",
          "name": "Kings County, New York"
         },
         {
          "Unnamed: 0": 500,
          "b19013001": 53121,
          "geoid": "05000US36051",
          "name": "Livingston County, New York"
         },
         {
          "Unnamed: 0": 501,
          "b19013001": 60630,
          "geoid": "05000US36053",
          "name": "Madison County, New York"
         },
         {
          "Unnamed: 0": 502,
          "b19013001": 54492,
          "geoid": "05000US36055",
          "name": "Monroe County, New York"
         },
         {
          "Unnamed: 0": 503,
          "b19013001": 105870,
          "geoid": "05000US36059",
          "name": "Nassau County, New York"
         },
         {
          "Unnamed: 0": 504,
          "b19013001": 77559,
          "geoid": "05000US36061",
          "name": "New York County, New York"
         },
         {
          "Unnamed: 0": 505,
          "b19013001": 50233,
          "geoid": "05000US36063",
          "name": "Niagara County, New York"
         },
         {
          "Unnamed: 0": 506,
          "b19013001": 52996,
          "geoid": "05000US36065",
          "name": "Oneida County, New York"
         },
         {
          "Unnamed: 0": 507,
          "b19013001": 56991,
          "geoid": "05000US36067",
          "name": "Onondaga County, New York"
         },
         {
          "Unnamed: 0": 508,
          "b19013001": 57448,
          "geoid": "05000US36069",
          "name": "Ontario County, New York"
         },
         {
          "Unnamed: 0": 509,
          "b19013001": 73025,
          "geoid": "05000US36071",
          "name": "Orange County, New York"
         },
         {
          "Unnamed: 0": 510,
          "b19013001": 53562,
          "geoid": "05000US36075",
          "name": "Oswego County, New York"
         },
         {
          "Unnamed: 0": 511,
          "b19013001": 96992,
          "geoid": "05000US36079",
          "name": "Putnam County, New York"
         },
         {
          "Unnamed: 0": 512,
          "b19013001": 62207,
          "geoid": "05000US36081",
          "name": "Queens County, New York"
         },
         {
          "Unnamed: 0": 513,
          "b19013001": 65965,
          "geoid": "05000US36083",
          "name": "Rensselaer County, New York"
         },
         {
          "Unnamed: 0": 514,
          "b19013001": 77197,
          "geoid": "05000US36085",
          "name": "Richmond County, New York"
         },
         {
          "Unnamed: 0": 515,
          "b19013001": 85515,
          "geoid": "05000US36087",
          "name": "Rockland County, New York"
         },
         {
          "Unnamed: 0": 516,
          "b19013001": 51592,
          "geoid": "05000US36089",
          "name": "St. Lawrence County, New York"
         },
         {
          "Unnamed: 0": 517,
          "b19013001": 76097,
          "geoid": "05000US36091",
          "name": "Saratoga County, New York"
         },
         {
          "Unnamed: 0": 518,
          "b19013001": 58331,
          "geoid": "05000US36093",
          "name": "Schenectady County, New York"
         },
         {
          "Unnamed: 0": 519,
          "b19013001": 50575,
          "geoid": "05000US36101",
          "name": "Steuben County, New York"
         },
         {
          "Unnamed: 0": 520,
          "b19013001": 92933,
          "geoid": "05000US36103",
          "name": "Suffolk County, New York"
         },
         {
          "Unnamed: 0": 521,
          "b19013001": 50652,
          "geoid": "05000US36105",
          "name": "Sullivan County, New York"
         },
         {
          "Unnamed: 0": 522,
          "b19013001": 56349,
          "geoid": "05000US36109",
          "name": "Tompkins County, New York"
         },
         {
          "Unnamed: 0": 523,
          "b19013001": 62790,
          "geoid": "05000US36111",
          "name": "Ulster County, New York"
         },
         {
          "Unnamed: 0": 524,
          "b19013001": 58061,
          "geoid": "05000US36113",
          "name": "Warren County, New York"
         },
         {
          "Unnamed: 0": 525,
          "b19013001": 59538,
          "geoid": "05000US36117",
          "name": "Wayne County, New York"
         },
         {
          "Unnamed: 0": 526,
          "b19013001": 89709,
          "geoid": "05000US36119",
          "name": "Westchester County, New York"
         },
         {
          "Unnamed: 0": 527,
          "b19013001": 47592,
          "geoid": "05000US39003",
          "name": "Allen County, Ohio"
         },
         {
          "Unnamed: 0": 528,
          "b19013001": 42965,
          "geoid": "05000US39007",
          "name": "Ashtabula County, Ohio"
         },
         {
          "Unnamed: 0": 529,
          "b19013001": 36193,
          "geoid": "05000US39009",
          "name": "Athens County, Ohio"
         },
         {
          "Unnamed: 0": 530,
          "b19013001": 48220,
          "geoid": "05000US39013",
          "name": "Belmont County, Ohio"
         },
         {
          "Unnamed: 0": 531,
          "b19013001": 63273,
          "geoid": "05000US39017",
          "name": "Butler County, Ohio"
         },
         {
          "Unnamed: 0": 532,
          "b19013001": 46811,
          "geoid": "05000US39023",
          "name": "Clark County, Ohio"
         },
         {
          "Unnamed: 0": 533,
          "b19013001": 60661,
          "geoid": "05000US39025",
          "name": "Clermont County, Ohio"
         },
         {
          "Unnamed: 0": 534,
          "b19013001": 47864,
          "geoid": "05000US39029",
          "name": "Columbiana County, Ohio"
         },
         {
          "Unnamed: 0": 535,
          "b19013001": 46601,
          "geoid": "05000US39035",
          "name": "Cuyahoga County, Ohio"
         },
         {
          "Unnamed: 0": 536,
          "b19013001": 101693,
          "geoid": "05000US39041",
          "name": "Delaware County, Ohio"
         },
         {
          "Unnamed: 0": 537,
          "b19013001": 48949,
          "geoid": "05000US39043",
          "name": "Erie County, Ohio"
         },
         {
          "Unnamed: 0": 538,
          "b19013001": 65316,
          "geoid": "05000US39045",
          "name": "Fairfield County, Ohio"
         },
         {
          "Unnamed: 0": 539,
          "b19013001": 56055,
          "geoid": "05000US39049",
          "name": "Franklin County, Ohio"
         },
         {
          "Unnamed: 0": 540,
          "b19013001": 76384,
          "geoid": "05000US39055",
          "name": "Geauga County, Ohio"
         },
         {
          "Unnamed: 0": 541,
          "b19013001": 62018,
          "geoid": "05000US39057",
          "name": "Greene County, Ohio"
         },
         {
          "Unnamed: 0": 542,
          "b19013001": 53229,
          "geoid": "05000US39061",
          "name": "Hamilton County, Ohio"
         },
         {
          "Unnamed: 0": 543,
          "b19013001": 52810,
          "geoid": "05000US39063",
          "name": "Hancock County, Ohio"
         },
         {
          "Unnamed: 0": 544,
          "b19013001": 44257,
          "geoid": "05000US39081",
          "name": "Jefferson County, Ohio"
         },
         {
          "Unnamed: 0": 545,
          "b19013001": 61870,
          "geoid": "05000US39085",
          "name": "Lake County, Ohio"
         },
         {
          "Unnamed: 0": 546,
          "b19013001": 58685,
          "geoid": "05000US39089",
          "name": "Licking County, Ohio"
         },
         {
          "Unnamed: 0": 547,
          "b19013001": 54504,
          "geoid": "05000US39093",
          "name": "Lorain County, Ohio"
         },
         {
          "Unnamed: 0": 548,
          "b19013001": 44534,
          "geoid": "05000US39095",
          "name": "Lucas County, Ohio"
         },
         {
          "Unnamed: 0": 549,
          "b19013001": 42295,
          "geoid": "05000US39099",
          "name": "Mahoning County, Ohio"
         },
         {
          "Unnamed: 0": 550,
          "b19013001": 42826,
          "geoid": "05000US39101",
          "name": "Marion County, Ohio"
         },
         {
          "Unnamed: 0": 551,
          "b19013001": 72618,
          "geoid": "05000US39103",
          "name": "Medina County, Ohio"
         },
         {
          "Unnamed: 0": 552,
          "b19013001": 60170,
          "geoid": "05000US39109",
          "name": "Miami County, Ohio"
         },
         {
          "Unnamed: 0": 553,
          "b19013001": 46936,
          "geoid": "05000US39113",
          "name": "Montgomery County, Ohio"
         },
         {
          "Unnamed: 0": 554,
          "b19013001": 43422,
          "geoid": "05000US39119",
          "name": "Muskingum County, Ohio"
         },
         {
          "Unnamed: 0": 555,
          "b19013001": 49695,
          "geoid": "05000US39133",
          "name": "Portage County, Ohio"
         },
         {
          "Unnamed: 0": 556,
          "b19013001": 44073,
          "geoid": "05000US39139",
          "name": "Richland County, Ohio"
         },
         {
          "Unnamed: 0": 557,
          "b19013001": 46422,
          "geoid": "05000US39141",
          "name": "Ross County, Ohio"
         },
         {
          "Unnamed: 0": 558,
          "b19013001": 39210,
          "geoid": "05000US39145",
          "name": "Scioto County, Ohio"
         },
         {
          "Unnamed: 0": 559,
          "b19013001": 50994,
          "geoid": "05000US39151",
          "name": "Stark County, Ohio"
         },
         {
          "Unnamed: 0": 560,
          "b19013001": 52036,
          "geoid": "05000US39153",
          "name": "Summit County, Ohio"
         },
         {
          "Unnamed: 0": 561,
          "b19013001": 45552,
          "geoid": "05000US39155",
          "name": "Trumbull County, Ohio"
         },
         {
          "Unnamed: 0": 562,
          "b19013001": 50440,
          "geoid": "05000US39157",
          "name": "Tuscarawas County, Ohio"
         },
         {
          "Unnamed: 0": 563,
          "b19013001": 80207,
          "geoid": "05000US39165",
          "name": "Warren County, Ohio"
         },
         {
          "Unnamed: 0": 564,
          "b19013001": 53434,
          "geoid": "05000US39169",
          "name": "Wayne County, Ohio"
         },
         {
          "Unnamed: 0": 565,
          "b19013001": 60166,
          "geoid": "05000US39173",
          "name": "Wood County, Ohio"
         },
         {
          "Unnamed: 0": 566,
          "b19013001": 67177,
          "geoid": "05000US40017",
          "name": "Canadian County, Oklahoma"
         },
         {
          "Unnamed: 0": 567,
          "b19013001": 61288,
          "geoid": "05000US40027",
          "name": "Cleveland County, Oklahoma"
         },
         {
          "Unnamed: 0": 568,
          "b19013001": 51164,
          "geoid": "05000US40031",
          "name": "Comanche County, Oklahoma"
         },
         {
          "Unnamed: 0": 569,
          "b19013001": 43609,
          "geoid": "05000US40037",
          "name": "Creek County, Oklahoma"
         },
         {
          "Unnamed: 0": 570,
          "b19013001": 40860,
          "geoid": "05000US40101",
          "name": "Muskogee County, Oklahoma"
         },
         {
          "Unnamed: 0": 571,
          "b19013001": 51078,
          "geoid": "05000US40109",
          "name": "Oklahoma County, Oklahoma"
         },
         {
          "Unnamed: 0": 572,
          "b19013001": 35927,
          "geoid": "05000US40119",
          "name": "Payne County, Oklahoma"
         },
         {
          "Unnamed: 0": 573,
          "b19013001": 41716,
          "geoid": "05000US40125",
          "name": "Pottawatomie County, Oklahoma"
         },
         {
          "Unnamed: 0": 574,
          "b19013001": 62434,
          "geoid": "05000US40131",
          "name": "Rogers County, Oklahoma"
         },
         {
          "Unnamed: 0": 575,
          "b19013001": 51325,
          "geoid": "05000US40143",
          "name": "Tulsa County, Oklahoma"
         },
         {
          "Unnamed: 0": 576,
          "b19013001": 62041,
          "geoid": "05000US40145",
          "name": "Wagoner County, Oklahoma"
         },
         {
          "Unnamed: 0": 577,
          "b19013001": 55459,
          "geoid": "05000US41003",
          "name": "Benton County, Oregon"
         },
         {
          "Unnamed: 0": 578,
          "b19013001": 74891,
          "geoid": "05000US41005",
          "name": "Clackamas County, Oregon"
         },
         {
          "Unnamed: 0": 579,
          "b19013001": 61870,
          "geoid": "05000US41017",
          "name": "Deschutes County, Oregon"
         },
         {
          "Unnamed: 0": 580,
          "b19013001": 42889,
          "geoid": "05000US41019",
          "name": "Douglas County, Oregon"
         },
         {
          "Unnamed: 0": 581,
          "b19013001": 48563,
          "geoid": "05000US41029",
          "name": "Jackson County, Oregon"
         },
         {
          "Unnamed: 0": 582,
          "b19013001": 36472,
          "geoid": "05000US41033",
          "name": "Josephine County, Oregon"
         },
         {
          "Unnamed: 0": 583,
          "b19013001": 45604,
          "geoid": "05000US41035",
          "name": "Klamath County, Oregon"
         },
         {
          "Unnamed: 0": 584,
          "b19013001": 47777,
          "geoid": "05000US41039",
          "name": "Lane County, Oregon"
         },
         {
          "Unnamed: 0": 585,
          "b19013001": 51310,
          "geoid": "05000US41043",
          "name": "Linn County, Oregon"
         },
         {
          "Unnamed: 0": 586,
          "b19013001": 56550,
          "geoid": "05000US41047",
          "name": "Marion County, Oregon"
         },
         {
          "Unnamed: 0": 587,
          "b19013001": 62629,
          "geoid": "05000US41051",
          "name": "Multnomah County, Oregon"
         },
         {
          "Unnamed: 0": 588,
          "b19013001": 52485,
          "geoid": "05000US41053",
          "name": "Polk County, Oregon"
         },
         {
          "Unnamed: 0": 589,
          "b19013001": 50171,
          "geoid": "05000US41059",
          "name": "Umatilla County, Oregon"
         },
         {
          "Unnamed: 0": 590,
          "b19013001": 75634,
          "geoid": "05000US41067",
          "name": "Washington County, Oregon"
         },
         {
          "Unnamed: 0": 591,
          "b19013001": 61596,
          "geoid": "05000US41071",
          "name": "Yamhill County, Oregon"
         },
         {
          "Unnamed: 0": 592,
          "b19013001": 59300,
          "geoid": "05000US42001",
          "name": "Adams County, Pennsylvania"
         },
         {
          "Unnamed: 0": 593,
          "b19013001": 56140,
          "geoid": "05000US42003",
          "name": "Allegheny County, Pennsylvania"
         },
         {
          "Unnamed: 0": 594,
          "b19013001": 47398,
          "geoid": "05000US42005",
          "name": "Armstrong County, Pennsylvania"
         },
         {
          "Unnamed: 0": 595,
          "b19013001": 55221,
          "geoid": "05000US42007",
          "name": "Beaver County, Pennsylvania"
         },
         {
          "Unnamed: 0": 596,
          "b19013001": 59286,
          "geoid": "05000US42011",
          "name": "Berks County, Pennsylvania"
         },
         {
          "Unnamed: 0": 597,
          "b19013001": 43443,
          "geoid": "05000US42013",
          "name": "Blair County, Pennsylvania"
         },
         {
          "Unnamed: 0": 598,
          "b19013001": 79936,
          "geoid": "05000US42017",
          "name": "Bucks County, Pennsylvania"
         },
         {
          "Unnamed: 0": 599,
          "b19013001": 66426,
          "geoid": "05000US42019",
          "name": "Butler County, Pennsylvania"
         },
         {
          "Unnamed: 0": 600,
          "b19013001": 44100,
          "geoid": "05000US42021",
          "name": "Cambria County, Pennsylvania"
         },
         {
          "Unnamed: 0": 601,
          "b19013001": 51676,
          "geoid": "05000US42025",
          "name": "Carbon County, Pennsylvania"
         },
         {
          "Unnamed: 0": 602,
          "b19013001": 60266,
          "geoid": "05000US42027",
          "name": "Centre County, Pennsylvania"
         },
         {
          "Unnamed: 0": 603,
          "b19013001": 92407,
          "geoid": "05000US42029",
          "name": "Chester County, Pennsylvania"
         },
         {
          "Unnamed: 0": 604,
          "b19013001": 47352,
          "geoid": "05000US42033",
          "name": "Clearfield County, Pennsylvania"
         },
         {
          "Unnamed: 0": 605,
          "b19013001": 49186,
          "geoid": "05000US42037",
          "name": "Columbia County, Pennsylvania"
         },
         {
          "Unnamed: 0": 606,
          "b19013001": 45410,
          "geoid": "05000US42039",
          "name": "Crawford County, Pennsylvania"
         },
         {
          "Unnamed: 0": 607,
          "b19013001": 63530,
          "geoid": "05000US42041",
          "name": "Cumberland County, Pennsylvania"
         },
         {
          "Unnamed: 0": 608,
          "b19013001": 60331,
          "geoid": "05000US42043",
          "name": "Dauphin County, Pennsylvania"
         },
         {
          "Unnamed: 0": 609,
          "b19013001": 67950,
          "geoid": "05000US42045",
          "name": "Delaware County, Pennsylvania"
         },
         {
          "Unnamed: 0": 610,
          "b19013001": 48964,
          "geoid": "05000US42049",
          "name": "Erie County, Pennsylvania"
         },
         {
          "Unnamed: 0": 611,
          "b19013001": 43140,
          "geoid": "05000US42051",
          "name": "Fayette County, Pennsylvania"
         },
         {
          "Unnamed: 0": 612,
          "b19013001": 60559,
          "geoid": "05000US42055",
          "name": "Franklin County, Pennsylvania"
         },
         {
          "Unnamed: 0": 613,
          "b19013001": 42962,
          "geoid": "05000US42063",
          "name": "Indiana County, Pennsylvania"
         },
         {
          "Unnamed: 0": 614,
          "b19013001": 47475,
          "geoid": "05000US42069",
          "name": "Lackawanna County, Pennsylvania"
         },
         {
          "Unnamed: 0": 615,
          "b19013001": 61335,
          "geoid": "05000US42071",
          "name": "Lancaster County, Pennsylvania"
         },
         {
          "Unnamed: 0": 616,
          "b19013001": 46918,
          "geoid": "05000US42073",
          "name": "Lawrence County, Pennsylvania"
         },
         {
          "Unnamed: 0": 617,
          "b19013001": 57248,
          "geoid": "05000US42075",
          "name": "Lebanon County, Pennsylvania"
         },
         {
          "Unnamed: 0": 618,
          "b19013001": 60498,
          "geoid": "05000US42077",
          "name": "Lehigh County, Pennsylvania"
         },
         {
          "Unnamed: 0": 619,
          "b19013001": 46580,
          "geoid": "05000US42079",
          "name": "Luzerne County, Pennsylvania"
         },
         {
          "Unnamed: 0": 620,
          "b19013001": 49052,
          "geoid": "05000US42081",
          "name": "Lycoming County, Pennsylvania"
         },
         {
          "Unnamed: 0": 621,
          "b19013001": 49890,
          "geoid": "05000US42085",
          "name": "Mercer County, Pennsylvania"
         },
         {
          "Unnamed: 0": 622,
          "b19013001": 60095,
          "geoid": "05000US42089",
          "name": "Monroe County, Pennsylvania"
         },
         {
          "Unnamed: 0": 623,
          "b19013001": 84113,
          "geoid": "05000US42091",
          "name": "Montgomery County, Pennsylvania"
         },
         {
          "Unnamed: 0": 624,
          "b19013001": 66438,
          "geoid": "05000US42095",
          "name": "Northampton County, Pennsylvania"
         },
         {
          "Unnamed: 0": 625,
          "b19013001": 47736,
          "geoid": "05000US42097",
          "name": "Northumberland County, Pennsylvania"
         },
         {
          "Unnamed: 0": 626,
          "b19013001": 41449,
          "geoid": "05000US42101",
          "name": "Philadelphia County, Pennsylvania"
         },
         {
          "Unnamed: 0": 627,
          "b19013001": 50684,
          "geoid": "05000US42107",
          "name": "Schuylkill County, Pennsylvania"
         },
         {
          "Unnamed: 0": 628,
          "b19013001": 43871,
          "geoid": "05000US42111",
          "name": "Somerset County, Pennsylvania"
         },
         {
          "Unnamed: 0": 629,
          "b19013001": 57998,
          "geoid": "05000US42125",
          "name": "Washington County, Pennsylvania"
         },
         {
          "Unnamed: 0": 630,
          "b19013001": 56722,
          "geoid": "05000US42129",
          "name": "Westmoreland County, Pennsylvania"
         },
         {
          "Unnamed: 0": 631,
          "b19013001": 62462,
          "geoid": "05000US42133",
          "name": "York County, Pennsylvania"
         },
         {
          "Unnamed: 0": 632,
          "b19013001": 18516,
          "geoid": "05000US72013",
          "name": "Arecibo Municipio, Puerto Rico"
         },
         {
          "Unnamed: 0": 633,
          "b19013001": 24128,
          "geoid": "05000US72021",
          "name": "Bayamón Municipio, Puerto Rico"
         },
         {
          "Unnamed: 0": 634,
          "b19013001": 24198,
          "geoid": "05000US72025",
          "name": "Caguas Municipio, Puerto Rico"
         },
         {
          "Unnamed: 0": 635,
          "b19013001": 28055,
          "geoid": "05000US72031",
          "name": "Carolina Municipio, Puerto Rico"
         },
         {
          "Unnamed: 0": 636,
          "b19013001": 32240,
          "geoid": "05000US72061",
          "name": "Guaynabo Municipio, Puerto Rico"
         },
         {
          "Unnamed: 0": 637,
          "b19013001": 14532,
          "geoid": "05000US72097",
          "name": "Mayagüez Municipio, Puerto Rico"
         },
         {
          "Unnamed: 0": 638,
          "b19013001": 17454,
          "geoid": "05000US72113",
          "name": "Ponce Municipio, Puerto Rico"
         },
         {
          "Unnamed: 0": 639,
          "b19013001": 22727,
          "geoid": "05000US72127",
          "name": "San Juan Municipio, Puerto Rico"
         },
         {
          "Unnamed: 0": 640,
          "b19013001": 26171,
          "geoid": "05000US72135",
          "name": "Toa Alta Municipio, Puerto Rico"
         },
         {
          "Unnamed: 0": 641,
          "b19013001": 23560,
          "geoid": "05000US72137",
          "name": "Toa Baja Municipio, Puerto Rico"
         },
         {
          "Unnamed: 0": 642,
          "b19013001": 33122,
          "geoid": "05000US72139",
          "name": "Trujillo Alto Municipio, Puerto Rico"
         },
         {
          "Unnamed: 0": 643,
          "b19013001": 64658,
          "geoid": "05000US48209",
          "name": "Hays County, Texas"
         },
         {
          "Unnamed: 0": 644,
          "b19013001": 63101,
          "geoid": "05000US44003",
          "name": "Kent County, Rhode Island"
         },
         {
          "Unnamed: 0": 645,
          "b19013001": 73596,
          "geoid": "05000US44005",
          "name": "Newport County, Rhode Island"
         },
         {
          "Unnamed: 0": 646,
          "b19013001": 52369,
          "geoid": "05000US44007",
          "name": "Providence County, Rhode Island"
         },
         {
          "Unnamed: 0": 647,
          "b19013001": 77813,
          "geoid": "05000US44009",
          "name": "Washington County, Rhode Island"
         },
         {
          "Unnamed: 0": 648,
          "b19013001": 45945,
          "geoid": "05000US45003",
          "name": "Aiken County, South Carolina"
         },
         {
          "Unnamed: 0": 649,
          "b19013001": 45090,
          "geoid": "05000US45007",
          "name": "Anderson County, South Carolina"
         },
         {
          "Unnamed: 0": 650,
          "b19013001": 65919,
          "geoid": "05000US45013",
          "name": "Beaufort County, South Carolina"
         },
         {
          "Unnamed: 0": 651,
          "b19013001": 59153,
          "geoid": "05000US45015",
          "name": "Berkeley County, South Carolina"
         },
         {
          "Unnamed: 0": 652,
          "b19013001": 56827,
          "geoid": "05000US45019",
          "name": "Charleston County, South Carolina"
         },
         {
          "Unnamed: 0": 653,
          "b19013001": 36841,
          "geoid": "05000US45031",
          "name": "Darlington County, South Carolina"
         },
         {
          "Unnamed: 0": 654,
          "b19013001": 57637,
          "geoid": "05000US45035",
          "name": "Dorchester County, South Carolina"
         },
         {
          "Unnamed: 0": 655,
          "b19013001": 46524,
          "geoid": "05000US45041",
          "name": "Florence County, South Carolina"
         },
         {
          "Unnamed: 0": 656,
          "b19013001": 55342,
          "geoid": "05000US45045",
          "name": "Greenville County, South Carolina"
         },
         {
          "Unnamed: 0": 657,
          "b19013001": 38200,
          "geoid": "05000US45047",
          "name": "Greenwood County, South Carolina"
         },
         {
          "Unnamed: 0": 658,
          "b19013001": 45621,
          "geoid": "05000US45051",
          "name": "Horry County, South Carolina"
         },
         {
          "Unnamed: 0": 659,
          "b19013001": 56216,
          "geoid": "05000US45057",
          "name": "Lancaster County, South Carolina"
         },
         {
          "Unnamed: 0": 660,
          "b19013001": 44038,
          "geoid": "05000US45059",
          "name": "Laurens County, South Carolina"
         },
         {
          "Unnamed: 0": 661,
          "b19013001": 57382,
          "geoid": "05000US45063",
          "name": "Lexington County, South Carolina"
         },
         {
          "Unnamed: 0": 662,
          "b19013001": 43743,
          "geoid": "05000US45073",
          "name": "Oconee County, South Carolina"
         },
         {
          "Unnamed: 0": 663,
          "b19013001": 32450,
          "geoid": "05000US45075",
          "name": "Orangeburg County, South Carolina"
         },
         {
          "Unnamed: 0": 664,
          "b19013001": 45779,
          "geoid": "05000US45077",
          "name": "Pickens County, South Carolina"
         },
         {
          "Unnamed: 0": 665,
          "b19013001": 52030,
          "geoid": "05000US45079",
          "name": "Richland County, South Carolina"
         },
         {
          "Unnamed: 0": 666,
          "b19013001": 47371,
          "geoid": "05000US45083",
          "name": "Spartanburg County, South Carolina"
         },
         {
          "Unnamed: 0": 667,
          "b19013001": 40614,
          "geoid": "05000US45085",
          "name": "Sumter County, South Carolina"
         },
         {
          "Unnamed: 0": 668,
          "b19013001": 60767,
          "geoid": "05000US45091",
          "name": "York County, South Carolina"
         },
         {
          "Unnamed: 0": 669,
          "b19013001": 44088,
          "geoid": "05000US48213",
          "name": "Henderson County, Texas"
         },
         {
          "Unnamed: 0": 670,
          "b19013001": 60038,
          "geoid": "05000US46099",
          "name": "Minnehaha County, South Dakota"
         },
         {
          "Unnamed: 0": 671,
          "b19013001": 50950,
          "geoid": "05000US46103",
          "name": "Pennington County, South Dakota"
         },
         {
          "Unnamed: 0": 672,
          "b19013001": 46055,
          "geoid": "05000US47001",
          "name": "Anderson County, Tennessee"
         },
         {
          "Unnamed: 0": 673,
          "b19013001": 51183,
          "geoid": "05000US47009",
          "name": "Blount County, Tennessee"
         },
         {
          "Unnamed: 0": 674,
          "b19013001": 44853,
          "geoid": "05000US47011",
          "name": "Bradley County, Tennessee"
         },
         {
          "Unnamed: 0": 675,
          "b19013001": 54855,
          "geoid": "05000US47037",
          "name": "Davidson County, Tennessee"
         },
         {
          "Unnamed: 0": 676,
          "b19013001": 41109,
          "geoid": "05000US47059",
          "name": "Greene County, Tennessee"
         },
         {
          "Unnamed: 0": 677,
          "b19013001": 47898,
          "geoid": "05000US47065",
          "name": "Hamilton County, Tennessee"
         },
         {
          "Unnamed: 0": 678,
          "b19013001": 52102,
          "geoid": "05000US47093",
          "name": "Knox County, Tennessee"
         },
         {
          "Unnamed: 0": 679,
          "b19013001": 41791,
          "geoid": "05000US47113",
          "name": "Madison County, Tennessee"
         },
         {
          "Unnamed: 0": 680,
          "b19013001": 50591,
          "geoid": "05000US47119",
          "name": "Maury County, Tennessee"
         },
         {
          "Unnamed: 0": 681,
          "b19013001": 56112,
          "geoid": "05000US47125",
          "name": "Montgomery County, Tennessee"
         },
         {
          "Unnamed: 0": 682,
          "b19013001": 37437,
          "geoid": "05000US47141",
          "name": "Putnam County, Tennessee"
         },
         {
          "Unnamed: 0": 683,
          "b19013001": 60423,
          "geoid": "05000US47147",
          "name": "Robertson County, Tennessee"
         },
         {
          "Unnamed: 0": 684,
          "b19013001": 61157,
          "geoid": "05000US47149",
          "name": "Rutherford County, Tennessee"
         },
         {
          "Unnamed: 0": 685,
          "b19013001": 45609,
          "geoid": "05000US47155",
          "name": "Sevier County, Tennessee"
         },
         {
          "Unnamed: 0": 686,
          "b19013001": 47690,
          "geoid": "05000US47157",
          "name": "Shelby County, Tennessee"
         },
         {
          "Unnamed: 0": 687,
          "b19013001": 42859,
          "geoid": "05000US47163",
          "name": "Sullivan County, Tennessee"
         },
         {
          "Unnamed: 0": 688,
          "b19013001": 60503,
          "geoid": "05000US47165",
          "name": "Sumner County, Tennessee"
         },
         {
          "Unnamed: 0": 689,
          "b19013001": 46276,
          "geoid": "05000US47179",
          "name": "Washington County, Tennessee"
         },
         {
          "Unnamed: 0": 690,
          "b19013001": 106054,
          "geoid": "05000US47187",
          "name": "Williamson County, Tennessee"
         },
         {
          "Unnamed: 0": 691,
          "b19013001": 71153,
          "geoid": "05000US47189",
          "name": "Wilson County, Tennessee"
         },
         {
          "Unnamed: 0": 692,
          "b19013001": 41161,
          "geoid": "05000US48005",
          "name": "Angelina County, Texas"
         },
         {
          "Unnamed: 0": 693,
          "b19013001": 56508,
          "geoid": "05000US48021",
          "name": "Bastrop County, Texas"
         },
         {
          "Unnamed: 0": 694,
          "b19013001": 52275,
          "geoid": "05000US48027",
          "name": "Bell County, Texas"
         },
         {
          "Unnamed: 0": 695,
          "b19013001": 53210,
          "geoid": "05000US48029",
          "name": "Bexar County, Texas"
         },
         {
          "Unnamed: 0": 696,
          "b19013001": 45997,
          "geoid": "05000US48037",
          "name": "Bowie County, Texas"
         },
         {
          "Unnamed: 0": 697,
          "b19013001": 74799,
          "geoid": "05000US48039",
          "name": "Brazoria County, Texas"
         },
         {
          "Unnamed: 0": 698,
          "b19013001": 41559,
          "geoid": "05000US48041",
          "name": "Brazos County, Texas"
         },
         {
          "Unnamed: 0": 699,
          "b19013001": 37061,
          "geoid": "05000US48061",
          "name": "Cameron County, Texas"
         },
         {
          "Unnamed: 0": 700,
          "b19013001": 89638,
          "geoid": "05000US48085",
          "name": "Collin County, Texas"
         },
         {
          "Unnamed: 0": 701,
          "b19013001": 77425,
          "geoid": "05000US48091",
          "name": "Comal County, Texas"
         },
         {
          "Unnamed: 0": 702,
          "b19013001": 51125,
          "geoid": "05000US48099",
          "name": "Coryell County, Texas"
         },
         {
          "Unnamed: 0": 703,
          "b19013001": 54399,
          "geoid": "05000US48113",
          "name": "Dallas County, Texas"
         },
         {
          "Unnamed: 0": 704,
          "b19013001": 80613,
          "geoid": "05000US48121",
          "name": "Denton County, Texas"
         },
         {
          "Unnamed: 0": 705,
          "b19013001": 53254,
          "geoid": "05000US48135",
          "name": "Ector County, Texas"
         },
         {
          "Unnamed: 0": 706,
          "b19013001": 70210,
          "geoid": "05000US48139",
          "name": "Ellis County, Texas"
         },
         {
          "Unnamed: 0": 707,
          "b19013001": 42165,
          "geoid": "05000US48141",
          "name": "El Paso County, Texas"
         },
         {
          "Unnamed: 0": 708,
          "b19013001": 90680,
          "geoid": "05000US48157",
          "name": "Fort Bend County, Texas"
         },
         {
          "Unnamed: 0": 709,
          "b19013001": 64939,
          "geoid": "05000US48167",
          "name": "Galveston County, Texas"
         },
         {
          "Unnamed: 0": 710,
          "b19013001": 52095,
          "geoid": "05000US48181",
          "name": "Grayson County, Texas"
         },
         {
          "Unnamed: 0": 711,
          "b19013001": 44219,
          "geoid": "05000US48183",
          "name": "Gregg County, Texas"
         },
         {
          "Unnamed: 0": 712,
          "b19013001": 68157,
          "geoid": "05000US48187",
          "name": "Guadalupe County, Texas"
         },
         {
          "Unnamed: 0": 713,
          "b19013001": 56377,
          "geoid": "05000US48201",
          "name": "Harris County, Texas"
         },
         {
          "Unnamed: 0": 714,
          "b19013001": 46548,
          "geoid": "05000US48203",
          "name": "Harrison County, Texas"
         },
         {
          "Unnamed: 0": 715,
          "b19013001": 36176,
          "geoid": "05000US48215",
          "name": "Hidalgo County, Texas"
         },
         {
          "Unnamed: 0": 716,
          "b19013001": 53962,
          "geoid": "05000US48231",
          "name": "Hunt County, Texas"
         },
         {
          "Unnamed: 0": 717,
          "b19013001": 45390,
          "geoid": "05000US48245",
          "name": "Jefferson County, Texas"
         },
         {
          "Unnamed: 0": 718,
          "b19013001": 59895,
          "geoid": "05000US48251",
          "name": "Johnson County, Texas"
         },
         {
          "Unnamed: 0": 719,
          "b19013001": 62033,
          "geoid": "05000US48257",
          "name": "Kaufman County, Texas"
         },
         {
          "Unnamed: 0": 720,
          "b19013001": 42877,
          "geoid": "05000US48291",
          "name": "Liberty County, Texas"
         },
         {
          "Unnamed: 0": 721,
          "b19013001": 49136,
          "geoid": "05000US48303",
          "name": "Lubbock County, Texas"
         },
         {
          "Unnamed: 0": 722,
          "b19013001": 46860,
          "geoid": "05000US48309",
          "name": "McLennan County, Texas"
         },
         {
          "Unnamed: 0": 723,
          "b19013001": 65349,
          "geoid": "05000US48329",
          "name": "Midland County, Texas"
         },
         {
          "Unnamed: 0": 724,
          "b19013001": 71123,
          "geoid": "05000US48339",
          "name": "Montgomery County, Texas"
         },
         {
          "Unnamed: 0": 725,
          "b19013001": 35562,
          "geoid": "05000US48347",
          "name": "Nacogdoches County, Texas"
         },
         {
          "Unnamed: 0": 726,
          "b19013001": 54318,
          "geoid": "05000US48355",
          "name": "Nueces County, Texas"
         },
         {
          "Unnamed: 0": 727,
          "b19013001": 53480,
          "geoid": "05000US48361",
          "name": "Orange County, Texas"
         },
         {
          "Unnamed: 0": 728,
          "b19013001": 66548,
          "geoid": "05000US48367",
          "name": "Parker County, Texas"
         },
         {
          "Unnamed: 0": 729,
          "b19013001": 42305,
          "geoid": "05000US48375",
          "name": "Potter County, Texas"
         },
         {
          "Unnamed: 0": 730,
          "b19013001": 67015,
          "geoid": "05000US48381",
          "name": "Randall County, Texas"
         },
         {
          "Unnamed: 0": 731,
          "b19013001": 95731,
          "geoid": "05000US48397",
          "name": "Rockwall County, Texas"
         },
         {
          "Unnamed: 0": 732,
          "b19013001": 53348,
          "geoid": "05000US48409",
          "name": "San Patricio County, Texas"
         },
         {
          "Unnamed: 0": 733,
          "b19013001": 52572,
          "geoid": "05000US48423",
          "name": "Smith County, Texas"
         },
         {
          "Unnamed: 0": 734,
          "b19013001": 61534,
          "geoid": "05000US48439",
          "name": "Tarrant County, Texas"
         },
         {
          "Unnamed: 0": 735,
          "b19013001": 48803,
          "geoid": "05000US48441",
          "name": "Taylor County, Texas"
         },
         {
          "Unnamed: 0": 736,
          "b19013001": 48696,
          "geoid": "05000US48451",
          "name": "Tom Green County, Texas"
         },
         {
          "Unnamed: 0": 737,
          "b19013001": 70158,
          "geoid": "05000US48453",
          "name": "Travis County, Texas"
         },
         {
          "Unnamed: 0": 738,
          "b19013001": 53778,
          "geoid": "05000US48469",
          "name": "Victoria County, Texas"
         },
         {
          "Unnamed: 0": 739,
          "b19013001": 42662,
          "geoid": "05000US48471",
          "name": "Walker County, Texas"
         },
         {
          "Unnamed: 0": 740,
          "b19013001": 35659,
          "geoid": "05000US48479",
          "name": "Webb County, Texas"
         },
         {
          "Unnamed: 0": 741,
          "b19013001": 44769,
          "geoid": "05000US48485",
          "name": "Wichita County, Texas"
         },
         {
          "Unnamed: 0": 742,
          "b19013001": 81818,
          "geoid": "05000US48491",
          "name": "Williamson County, Texas"
         },
         {
          "Unnamed: 0": 743,
          "b19013001": 58003,
          "geoid": "05000US49005",
          "name": "Cache County, Utah"
         },
         {
          "Unnamed: 0": 744,
          "b19013001": 76905,
          "geoid": "05000US49011",
          "name": "Davis County, Utah"
         },
         {
          "Unnamed: 0": 745,
          "b19013001": 68665,
          "geoid": "05000US49035",
          "name": "Salt Lake County, Utah"
         },
         {
          "Unnamed: 0": 746,
          "b19013001": 69799,
          "geoid": "05000US49049",
          "name": "Utah County, Utah"
         },
         {
          "Unnamed: 0": 747,
          "b19013001": 55056,
          "geoid": "05000US49053",
          "name": "Washington County, Utah"
         },
         {
          "Unnamed: 0": 748,
          "b19013001": 63158,
          "geoid": "05000US49057",
          "name": "Weber County, Utah"
         },
         {
          "Unnamed: 0": 749,
          "b19013001": 71975,
          "geoid": "05000US51003",
          "name": "Albemarle County, Virginia"
         },
         {
          "Unnamed: 0": 750,
          "b19013001": 110388,
          "geoid": "05000US51013",
          "name": "Arlington County, Virginia"
         },
         {
          "Unnamed: 0": 751,
          "b19013001": 55342,
          "geoid": "05000US51015",
          "name": "Augusta County, Virginia"
         },
         {
          "Unnamed: 0": 752,
          "b19013001": 56479,
          "geoid": "05000US51019",
          "name": "Bedford County, Virginia"
         },
         {
          "Unnamed: 0": 753,
          "b19013001": 76059,
          "geoid": "05000US51041",
          "name": "Chesterfield County, Virginia"
         },
         {
          "Unnamed: 0": 754,
          "b19013001": 115717,
          "geoid": "05000US51059",
          "name": "Fairfax County, Virginia"
         },
         {
          "Unnamed: 0": 755,
          "b19013001": 94347,
          "geoid": "05000US51061",
          "name": "Fauquier County, Virginia"
         },
         {
          "Unnamed: 0": 756,
          "b19013001": 69827,
          "geoid": "05000US51069",
          "name": "Frederick County, Virginia"
         },
         {
          "Unnamed: 0": 757,
          "b19013001": 83135,
          "geoid": "05000US51085",
          "name": "Hanover County, Virginia"
         },
         {
          "Unnamed: 0": 758,
          "b19013001": 66337,
          "geoid": "05000US51087",
          "name": "Henrico County, Virginia"
         },
         {
          "Unnamed: 0": 759,
          "b19013001": 83455,
          "geoid": "05000US51095",
          "name": "James City County, Virginia"
         },
         {
          "Unnamed: 0": 760,
          "b19013001": 134464,
          "geoid": "05000US51107",
          "name": "Loudoun County, Virginia"
         },
         {
          "Unnamed: 0": 761,
          "b19013001": 55706,
          "geoid": "05000US51121",
          "name": "Montgomery County, Virginia"
         },
         {
          "Unnamed: 0": 762,
          "b19013001": 97986,
          "geoid": "05000US51153",
          "name": "Prince William County, Virginia"
         },
         {
          "Unnamed: 0": 763,
          "b19013001": 60454,
          "geoid": "05000US51161",
          "name": "Roanoke County, Virginia"
         },
         {
          "Unnamed: 0": 764,
          "b19013001": 57755,
          "geoid": "05000US51165",
          "name": "Rockingham County, Virginia"
         },
         {
          "Unnamed: 0": 765,
          "b19013001": 81146,
          "geoid": "05000US51177",
          "name": "Spotsylvania County, Virginia"
         },
         {
          "Unnamed: 0": 766,
          "b19013001": 97484,
          "geoid": "05000US51179",
          "name": "Stafford County, Virginia"
         },
         {
          "Unnamed: 0": 767,
          "b19013001": 89418,
          "geoid": "05000US51199",
          "name": "York County, Virginia"
         },
         {
          "Unnamed: 0": 768,
          "b19013001": 87920,
          "geoid": "05000US51510",
          "name": "Alexandria city, Virginia"
         },
         {
          "Unnamed: 0": 769,
          "b19013001": 72928,
          "geoid": "05000US51550",
          "name": "Chesapeake city, Virginia"
         },
         {
          "Unnamed: 0": 770,
          "b19013001": 50435,
          "geoid": "05000US51650",
          "name": "Hampton city, Virginia"
         },
         {
          "Unnamed: 0": 771,
          "b19013001": 41264,
          "geoid": "05000US51680",
          "name": "Lynchburg city, Virginia"
         },
         {
          "Unnamed: 0": 772,
          "b19013001": 50524,
          "geoid": "05000US51700",
          "name": "Newport News city, Virginia"
         },
         {
          "Unnamed: 0": 773,
          "b19013001": 46467,
          "geoid": "05000US51710",
          "name": "Norfolk city, Virginia"
         },
         {
          "Unnamed: 0": 774,
          "b19013001": 48516,
          "geoid": "05000US51740",
          "name": "Portsmouth city, Virginia"
         },
         {
          "Unnamed: 0": 775,
          "b19013001": 42373,
          "geoid": "05000US51760",
          "name": "Richmond city, Virginia"
         },
         {
          "Unnamed: 0": 776,
          "b19013001": 37044,
          "geoid": "05000US51770",
          "name": "Roanoke city, Virginia"
         },
         {
          "Unnamed: 0": 777,
          "b19013001": 66669,
          "geoid": "05000US51800",
          "name": "Suffolk city, Virginia"
         },
         {
          "Unnamed: 0": 778,
          "b19013001": 71117,
          "geoid": "05000US51810",
          "name": "Virginia Beach city, Virginia"
         },
         {
          "Unnamed: 0": 779,
          "b19013001": 68843,
          "geoid": "05000US50007",
          "name": "Chittenden County, Vermont"
         },
         {
          "Unnamed: 0": 780,
          "b19013001": 62508,
          "geoid": "05000US53005",
          "name": "Benton County, Washington"
         },
         {
          "Unnamed: 0": 781,
          "b19013001": 52080,
          "geoid": "05000US53007",
          "name": "Chelan County, Washington"
         },
         {
          "Unnamed: 0": 782,
          "b19013001": 48587,
          "geoid": "05000US53009",
          "name": "Clallam County, Washington"
         },
         {
          "Unnamed: 0": 783,
          "b19013001": 69062,
          "geoid": "05000US53011",
          "name": "Clark County, Washington"
         },
         {
          "Unnamed: 0": 784,
          "b19013001": 50637,
          "geoid": "05000US53015",
          "name": "Cowlitz County, Washington"
         },
         {
          "Unnamed: 0": 785,
          "b19013001": 57670,
          "geoid": "05000US53021",
          "name": "Franklin County, Washington"
         },
         {
          "Unnamed: 0": 786,
          "b19013001": 48335,
          "geoid": "05000US53025",
          "name": "Grant County, Washington"
         },
         {
          "Unnamed: 0": 787,
          "b19013001": 49623,
          "geoid": "05000US53027",
          "name": "Grays Harbor County, Washington"
         },
         {
          "Unnamed: 0": 788,
          "b19013001": 64813,
          "geoid": "05000US53029",
          "name": "Island County, Washington"
         },
         {
          "Unnamed: 0": 789,
          "b19013001": 86095,
          "geoid": "05000US53033",
          "name": "King County, Washington"
         },
         {
          "Unnamed: 0": 790,
          "b19013001": 69171,
          "geoid": "05000US53035",
          "name": "Kitsap County, Washington"
         },
         {
          "Unnamed: 0": 791,
          "b19013001": 45523,
          "geoid": "05000US53041",
          "name": "Lewis County, Washington"
         },
         {
          "Unnamed: 0": 792,
          "b19013001": 64434,
          "geoid": "05000US53053",
          "name": "Pierce County, Washington"
         },
         {
          "Unnamed: 0": 793,
          "b19013001": 60983,
          "geoid": "05000US53057",
          "name": "Skagit County, Washington"
         },
         {
          "Unnamed: 0": 794,
          "b19013001": 78716,
          "geoid": "05000US53061",
          "name": "Snohomish County, Washington"
         },
         {
          "Unnamed: 0": 795,
          "b19013001": 53043,
          "geoid": "05000US53063",
          "name": "Spokane County, Washington"
         },
         {
          "Unnamed: 0": 796,
          "b19013001": 65783,
          "geoid": "05000US53067",
          "name": "Thurston County, Washington"
         },
         {
          "Unnamed: 0": 797,
          "b19013001": 56411,
          "geoid": "05000US53073",
          "name": "Whatcom County, Washington"
         },
         {
          "Unnamed: 0": 798,
          "b19013001": 48965,
          "geoid": "05000US53077",
          "name": "Yakima County, Washington"
         },
         {
          "Unnamed: 0": 799,
          "b19013001": 57783,
          "geoid": "05000US55009",
          "name": "Brown County, Wisconsin"
         },
         {
          "Unnamed: 0": 800,
          "b19013001": 70796,
          "geoid": "05000US55025",
          "name": "Dane County, Wisconsin"
         },
         {
          "Unnamed: 0": 801,
          "b19013001": 55856,
          "geoid": "05000US55027",
          "name": "Dodge County, Wisconsin"
         },
         {
          "Unnamed: 0": 802,
          "b19013001": 49821,
          "geoid": "05000US55035",
          "name": "Eau Claire County, Wisconsin"
         },
         {
          "Unnamed: 0": 803,
          "b19013001": 58310,
          "geoid": "05000US55039",
          "name": "Fond du Lac County, Wisconsin"
         },
         {
          "Unnamed: 0": 804,
          "b19013001": 58703,
          "geoid": "05000US55055",
          "name": "Jefferson County, Wisconsin"
         },
         {
          "Unnamed: 0": 805,
          "b19013001": 59417,
          "geoid": "05000US55059",
          "name": "Kenosha County, Wisconsin"
         },
         {
          "Unnamed: 0": 806,
          "b19013001": 54823,
          "geoid": "05000US55063",
          "name": "La Crosse County, Wisconsin"
         },
         {
          "Unnamed: 0": 807,
          "b19013001": 51752,
          "geoid": "05000US55071",
          "name": "Manitowoc County, Wisconsin"
         },
         {
          "Unnamed: 0": 808,
          "b19013001": 54774,
          "geoid": "05000US55073",
          "name": "Marathon County, Wisconsin"
         },
         {
          "Unnamed: 0": 809,
          "b19013001": 47607,
          "geoid": "05000US55079",
          "name": "Milwaukee County, Wisconsin"
         },
         {
          "Unnamed: 0": 810,
          "b19013001": 61149,
          "geoid": "05000US55087",
          "name": "Outagamie County, Wisconsin"
         },
         {
          "Unnamed: 0": 811,
          "b19013001": 84415,
          "geoid": "05000US55089",
          "name": "Ozaukee County, Wisconsin"
         },
         {
          "Unnamed: 0": 812,
          "b19013001": 53655,
          "geoid": "05000US55097",
          "name": "Portage County, Wisconsin"
         },
         {
          "Unnamed: 0": 813,
          "b19013001": 55706,
          "geoid": "05000US55101",
          "name": "Racine County, Wisconsin"
         },
         {
          "Unnamed: 0": 814,
          "b19013001": 50729,
          "geoid": "05000US55105",
          "name": "Rock County, Wisconsin"
         },
         {
          "Unnamed: 0": 815,
          "b19013001": 72865,
          "geoid": "05000US55109",
          "name": "St. Croix County, Wisconsin"
         },
         {
          "Unnamed: 0": 816,
          "b19013001": 54059,
          "geoid": "05000US55117",
          "name": "Sheboygan County, Wisconsin"
         },
         {
          "Unnamed: 0": 817,
          "b19013001": 58302,
          "geoid": "05000US55127",
          "name": "Walworth County, Wisconsin"
         },
         {
          "Unnamed: 0": 818,
          "b19013001": 73502,
          "geoid": "05000US55131",
          "name": "Washington County, Wisconsin"
         },
         {
          "Unnamed: 0": 819,
          "b19013001": 81878,
          "geoid": "05000US55133",
          "name": "Waukesha County, Wisconsin"
         },
         {
          "Unnamed: 0": 820,
          "b19013001": 56754,
          "geoid": "05000US55139",
          "name": "Winnebago County, Wisconsin"
         },
         {
          "Unnamed: 0": 821,
          "b19013001": 51887,
          "geoid": "05000US55141",
          "name": "Wood County, Wisconsin"
         },
         {
          "Unnamed: 0": 822,
          "b19013001": 57357,
          "geoid": "05000US54003",
          "name": "Berkeley County, West Virginia"
         },
         {
          "Unnamed: 0": 823,
          "b19013001": 38823,
          "geoid": "05000US54011",
          "name": "Cabell County, West Virginia"
         },
         {
          "Unnamed: 0": 824,
          "b19013001": 47204,
          "geoid": "05000US54033",
          "name": "Harrison County, West Virginia"
         },
         {
          "Unnamed: 0": 825,
          "b19013001": 45001,
          "geoid": "05000US54039",
          "name": "Kanawha County, West Virginia"
         },
         {
          "Unnamed: 0": 826,
          "b19013001": 50953,
          "geoid": "05000US54061",
          "name": "Monongalia County, West Virginia"
         },
         {
          "Unnamed: 0": 827,
          "b19013001": 45863,
          "geoid": "05000US54081",
          "name": "Raleigh County, West Virginia"
         },
         {
          "Unnamed: 0": 828,
          "b19013001": 48655,
          "geoid": "05000US54107",
          "name": "Wood County, West Virginia"
         },
         {
          "Unnamed: 0": 829,
          "b19013001": 62221,
          "geoid": "05000US56021",
          "name": "Laramie County, Wyoming"
         },
         {
          "Unnamed: 0": 830,
          "b19013001": 59474,
          "geoid": "05000US56025",
          "name": "Natrona County, Wyoming"
         }
        ]
       },
       "encoding": {
        "x": {
         "axis": {
          "labels": false,
          "title": ""
         },
         "field": "name",
         "sort": {
          "field": "b19013001",
          "op": "sum",
          "order": "descending"
         },
         "type": "nominal"
        },
        "y": {
         "axis": {
          "format": "$s",
          "title": ""
         },
         "field": "b19013001",
         "type": "quantitative"
        }
       },
       "mark": "bar",
       "title": "Median household income of U.S. counties",
       "width": 620
      },
      "image/png": "[encoded data removed]",
      "text/plain": [
       "<VegaLite 2 object>\n",
       "\n",
       "If you see this message, it means the renderer has not been properly enabled\n",
       "for the frontend that you are using. For more information, see\n",
       "https://altair-viz.github.io/user_guide/troubleshooting.html\n"
      ]
     },
     "execution_count": 8,
     "metadata": {},
     "output_type": "execute_result"
    }
   ],
   "source": [
    "alt.Chart(df, title=\"Median household income of U.S. counties\").mark_bar().encode(\n",
    "    x=alt.X(\n",
    "        \"name:N\",\n",
    "        axis=alt.Axis(labels=False, title=\"\"),  # Remove all x-axis labels\n",
    "        # Here's where you can resort the order of the columns on the x-axis\n",
    "        sort=alt.SortField(\n",
    "            # This SortField class requires at least three inputs,\n",
    "            # which does seem like overkill. I'd like to see a simpler\n",
    "            # way to pull this off.\n",
    "            field='b19013001',  # First the field you want to sort on \n",
    "            op='sum',  # Then the operation to run on that field. In this case, we just total the value.\n",
    "            order=\"descending\"  # Finally, the order to sort.\n",
    "        )\n",
    "    ),\n",
    "    y=alt.Y(\n",
    "        \"b19013001:Q\",\n",
    "        axis=alt.Axis(title=\"\", format=\"$s\")  # Tidy up the dollar labels\n",
    "    )\n",
    ").properties(width=620)  # We can cram in the bars and make them small by restricting the width"
   ]
  }
 ],
 "metadata": {
  "kernelspec": {
   "display_name": "Python 3",
   "language": "python",
   "name": "python3"
  },
  "language_info": {
   "codemirror_mode": {
    "name": "ipython",
    "version": 3
   },
   "file_extension": ".py",
   "mimetype": "text/x-python",
   "name": "python",
   "nbconvert_exporter": "python",
   "pygments_lexer": "ipython3",
   "version": "3.6.4"
  }
 },
 "nbformat": 4,
 "nbformat_minor": 2
}
